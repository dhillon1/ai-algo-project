{
 "cells": [
  {
   "cell_type": "code",
   "execution_count": 1,
   "metadata": {},
   "outputs": [],
   "source": [
    "import numpy as np\n",
    "import pandas as pd"
   ]
  },
  {
   "cell_type": "code",
   "execution_count": 2,
   "metadata": {},
   "outputs": [],
   "source": [
    "df_data = pd.read_csv('data.csv')"
   ]
  },
  {
   "cell_type": "code",
   "execution_count": 3,
   "metadata": {},
   "outputs": [
    {
     "data": {
      "text/html": [
       "<div>\n",
       "<style scoped>\n",
       "    .dataframe tbody tr th:only-of-type {\n",
       "        vertical-align: middle;\n",
       "    }\n",
       "\n",
       "    .dataframe tbody tr th {\n",
       "        vertical-align: top;\n",
       "    }\n",
       "\n",
       "    .dataframe thead th {\n",
       "        text-align: right;\n",
       "    }\n",
       "</style>\n",
       "<table border=\"1\" class=\"dataframe\">\n",
       "  <thead>\n",
       "    <tr style=\"text-align: right;\">\n",
       "      <th></th>\n",
       "      <th>id</th>\n",
       "      <th>log_price</th>\n",
       "      <th>property_type</th>\n",
       "      <th>room_type</th>\n",
       "      <th>amenities</th>\n",
       "      <th>accommodates</th>\n",
       "      <th>bathrooms</th>\n",
       "      <th>bed_type</th>\n",
       "      <th>cancellation_policy</th>\n",
       "      <th>cleaning_fee</th>\n",
       "      <th>...</th>\n",
       "      <th>host_has_profile_pic</th>\n",
       "      <th>host_identity_verified</th>\n",
       "      <th>host_since</th>\n",
       "      <th>instant_bookable</th>\n",
       "      <th>latitude</th>\n",
       "      <th>longitude</th>\n",
       "      <th>name</th>\n",
       "      <th>neighbourhood</th>\n",
       "      <th>bedrooms</th>\n",
       "      <th>beds</th>\n",
       "    </tr>\n",
       "  </thead>\n",
       "  <tbody>\n",
       "    <tr>\n",
       "      <th>0</th>\n",
       "      <td>6901257</td>\n",
       "      <td>5.010635</td>\n",
       "      <td>Apartment</td>\n",
       "      <td>Entire home/apt</td>\n",
       "      <td>{\"Wireless Internet\",\"Air conditioning\",Kitche...</td>\n",
       "      <td>3</td>\n",
       "      <td>1.0</td>\n",
       "      <td>Real Bed</td>\n",
       "      <td>strict</td>\n",
       "      <td>True</td>\n",
       "      <td>...</td>\n",
       "      <td>t</td>\n",
       "      <td>t</td>\n",
       "      <td>2012-03-26</td>\n",
       "      <td>f</td>\n",
       "      <td>40.696524</td>\n",
       "      <td>-73.991617</td>\n",
       "      <td>Beautiful brownstone 1-bedroom</td>\n",
       "      <td>Brooklyn Heights</td>\n",
       "      <td>1.0</td>\n",
       "      <td>1.0</td>\n",
       "    </tr>\n",
       "    <tr>\n",
       "      <th>1</th>\n",
       "      <td>6304928</td>\n",
       "      <td>5.129899</td>\n",
       "      <td>Apartment</td>\n",
       "      <td>Entire home/apt</td>\n",
       "      <td>{\"Wireless Internet\",\"Air conditioning\",Kitche...</td>\n",
       "      <td>7</td>\n",
       "      <td>1.0</td>\n",
       "      <td>Real Bed</td>\n",
       "      <td>strict</td>\n",
       "      <td>True</td>\n",
       "      <td>...</td>\n",
       "      <td>t</td>\n",
       "      <td>f</td>\n",
       "      <td>2017-06-19</td>\n",
       "      <td>t</td>\n",
       "      <td>40.766115</td>\n",
       "      <td>-73.989040</td>\n",
       "      <td>Superb 3BR Apt Located Near Times Square</td>\n",
       "      <td>Hell's Kitchen</td>\n",
       "      <td>3.0</td>\n",
       "      <td>3.0</td>\n",
       "    </tr>\n",
       "    <tr>\n",
       "      <th>2</th>\n",
       "      <td>7919400</td>\n",
       "      <td>4.976734</td>\n",
       "      <td>Apartment</td>\n",
       "      <td>Entire home/apt</td>\n",
       "      <td>{TV,\"Cable TV\",\"Wireless Internet\",\"Air condit...</td>\n",
       "      <td>5</td>\n",
       "      <td>1.0</td>\n",
       "      <td>Real Bed</td>\n",
       "      <td>moderate</td>\n",
       "      <td>True</td>\n",
       "      <td>...</td>\n",
       "      <td>t</td>\n",
       "      <td>t</td>\n",
       "      <td>2016-10-25</td>\n",
       "      <td>t</td>\n",
       "      <td>40.808110</td>\n",
       "      <td>-73.943756</td>\n",
       "      <td>The Garden Oasis</td>\n",
       "      <td>Harlem</td>\n",
       "      <td>1.0</td>\n",
       "      <td>3.0</td>\n",
       "    </tr>\n",
       "    <tr>\n",
       "      <th>3</th>\n",
       "      <td>13418779</td>\n",
       "      <td>6.620073</td>\n",
       "      <td>House</td>\n",
       "      <td>Entire home/apt</td>\n",
       "      <td>{TV,\"Cable TV\",Internet,\"Wireless Internet\",Ki...</td>\n",
       "      <td>4</td>\n",
       "      <td>1.0</td>\n",
       "      <td>Real Bed</td>\n",
       "      <td>flexible</td>\n",
       "      <td>True</td>\n",
       "      <td>...</td>\n",
       "      <td>t</td>\n",
       "      <td>t</td>\n",
       "      <td>2015-04-19</td>\n",
       "      <td>f</td>\n",
       "      <td>37.772004</td>\n",
       "      <td>-122.431619</td>\n",
       "      <td>Beautiful Flat in the Heart of SF!</td>\n",
       "      <td>Lower Haight</td>\n",
       "      <td>2.0</td>\n",
       "      <td>2.0</td>\n",
       "    </tr>\n",
       "    <tr>\n",
       "      <th>4</th>\n",
       "      <td>3808709</td>\n",
       "      <td>4.744932</td>\n",
       "      <td>Apartment</td>\n",
       "      <td>Entire home/apt</td>\n",
       "      <td>{TV,Internet,\"Wireless Internet\",\"Air conditio...</td>\n",
       "      <td>2</td>\n",
       "      <td>1.0</td>\n",
       "      <td>Real Bed</td>\n",
       "      <td>moderate</td>\n",
       "      <td>True</td>\n",
       "      <td>...</td>\n",
       "      <td>t</td>\n",
       "      <td>t</td>\n",
       "      <td>2015-03-01</td>\n",
       "      <td>t</td>\n",
       "      <td>38.925627</td>\n",
       "      <td>-77.034596</td>\n",
       "      <td>Great studio in midtown DC</td>\n",
       "      <td>Columbia Heights</td>\n",
       "      <td>0.0</td>\n",
       "      <td>1.0</td>\n",
       "    </tr>\n",
       "    <tr>\n",
       "      <th>5</th>\n",
       "      <td>12422935</td>\n",
       "      <td>4.442651</td>\n",
       "      <td>Apartment</td>\n",
       "      <td>Private room</td>\n",
       "      <td>{TV,\"Wireless Internet\",Heating,\"Smoke detecto...</td>\n",
       "      <td>2</td>\n",
       "      <td>1.0</td>\n",
       "      <td>Real Bed</td>\n",
       "      <td>strict</td>\n",
       "      <td>True</td>\n",
       "      <td>...</td>\n",
       "      <td>t</td>\n",
       "      <td>t</td>\n",
       "      <td>2017-06-07</td>\n",
       "      <td>t</td>\n",
       "      <td>37.753164</td>\n",
       "      <td>-122.429526</td>\n",
       "      <td>Comfort Suite San Francisco</td>\n",
       "      <td>Noe Valley</td>\n",
       "      <td>1.0</td>\n",
       "      <td>1.0</td>\n",
       "    </tr>\n",
       "    <tr>\n",
       "      <th>6</th>\n",
       "      <td>11825529</td>\n",
       "      <td>4.418841</td>\n",
       "      <td>Apartment</td>\n",
       "      <td>Entire home/apt</td>\n",
       "      <td>{TV,Internet,\"Wireless Internet\",\"Air conditio...</td>\n",
       "      <td>3</td>\n",
       "      <td>1.0</td>\n",
       "      <td>Real Bed</td>\n",
       "      <td>moderate</td>\n",
       "      <td>True</td>\n",
       "      <td>...</td>\n",
       "      <td>t</td>\n",
       "      <td>f</td>\n",
       "      <td>2017-03-03</td>\n",
       "      <td>t</td>\n",
       "      <td>33.980454</td>\n",
       "      <td>-118.462821</td>\n",
       "      <td>Beach Town Studio and Parking!!!11h</td>\n",
       "      <td>NaN</td>\n",
       "      <td>1.0</td>\n",
       "      <td>1.0</td>\n",
       "    </tr>\n",
       "    <tr>\n",
       "      <th>7</th>\n",
       "      <td>13971273</td>\n",
       "      <td>4.787492</td>\n",
       "      <td>Condominium</td>\n",
       "      <td>Entire home/apt</td>\n",
       "      <td>{TV,\"Cable TV\",\"Wireless Internet\",\"Wheelchair...</td>\n",
       "      <td>2</td>\n",
       "      <td>1.0</td>\n",
       "      <td>Real Bed</td>\n",
       "      <td>moderate</td>\n",
       "      <td>True</td>\n",
       "      <td>...</td>\n",
       "      <td>t</td>\n",
       "      <td>t</td>\n",
       "      <td>2013-05-18</td>\n",
       "      <td>f</td>\n",
       "      <td>34.046737</td>\n",
       "      <td>-118.260439</td>\n",
       "      <td>Near LA Live, Staple's. Starbucks inside. OWN ...</td>\n",
       "      <td>Downtown</td>\n",
       "      <td>1.0</td>\n",
       "      <td>1.0</td>\n",
       "    </tr>\n",
       "    <tr>\n",
       "      <th>8</th>\n",
       "      <td>180792</td>\n",
       "      <td>4.787492</td>\n",
       "      <td>House</td>\n",
       "      <td>Private room</td>\n",
       "      <td>{TV,\"Cable TV\",\"Wireless Internet\",\"Pets live ...</td>\n",
       "      <td>2</td>\n",
       "      <td>1.0</td>\n",
       "      <td>Real Bed</td>\n",
       "      <td>moderate</td>\n",
       "      <td>True</td>\n",
       "      <td>...</td>\n",
       "      <td>t</td>\n",
       "      <td>f</td>\n",
       "      <td>2015-06-04</td>\n",
       "      <td>f</td>\n",
       "      <td>37.781128</td>\n",
       "      <td>-122.501095</td>\n",
       "      <td>Cozy Garden Studio - Private Entry</td>\n",
       "      <td>Richmond District</td>\n",
       "      <td>1.0</td>\n",
       "      <td>1.0</td>\n",
       "    </tr>\n",
       "    <tr>\n",
       "      <th>9</th>\n",
       "      <td>5385260</td>\n",
       "      <td>3.583519</td>\n",
       "      <td>House</td>\n",
       "      <td>Private room</td>\n",
       "      <td>{\"Wireless Internet\",\"Air conditioning\",Kitche...</td>\n",
       "      <td>2</td>\n",
       "      <td>1.0</td>\n",
       "      <td>Real Bed</td>\n",
       "      <td>moderate</td>\n",
       "      <td>True</td>\n",
       "      <td>...</td>\n",
       "      <td>t</td>\n",
       "      <td>f</td>\n",
       "      <td>2017-03-12</td>\n",
       "      <td>t</td>\n",
       "      <td>33.992563</td>\n",
       "      <td>-117.895997</td>\n",
       "      <td>No.7 Queen Size Cozy Room 舒适大床房</td>\n",
       "      <td>NaN</td>\n",
       "      <td>1.0</td>\n",
       "      <td>1.0</td>\n",
       "    </tr>\n",
       "  </tbody>\n",
       "</table>\n",
       "<p>10 rows × 22 columns</p>\n",
       "</div>"
      ],
      "text/plain": [
       "         id  log_price property_type        room_type  \\\n",
       "0   6901257   5.010635     Apartment  Entire home/apt   \n",
       "1   6304928   5.129899     Apartment  Entire home/apt   \n",
       "2   7919400   4.976734     Apartment  Entire home/apt   \n",
       "3  13418779   6.620073         House  Entire home/apt   \n",
       "4   3808709   4.744932     Apartment  Entire home/apt   \n",
       "5  12422935   4.442651     Apartment     Private room   \n",
       "6  11825529   4.418841     Apartment  Entire home/apt   \n",
       "7  13971273   4.787492   Condominium  Entire home/apt   \n",
       "8    180792   4.787492         House     Private room   \n",
       "9   5385260   3.583519         House     Private room   \n",
       "\n",
       "                                           amenities  accommodates  bathrooms  \\\n",
       "0  {\"Wireless Internet\",\"Air conditioning\",Kitche...             3        1.0   \n",
       "1  {\"Wireless Internet\",\"Air conditioning\",Kitche...             7        1.0   \n",
       "2  {TV,\"Cable TV\",\"Wireless Internet\",\"Air condit...             5        1.0   \n",
       "3  {TV,\"Cable TV\",Internet,\"Wireless Internet\",Ki...             4        1.0   \n",
       "4  {TV,Internet,\"Wireless Internet\",\"Air conditio...             2        1.0   \n",
       "5  {TV,\"Wireless Internet\",Heating,\"Smoke detecto...             2        1.0   \n",
       "6  {TV,Internet,\"Wireless Internet\",\"Air conditio...             3        1.0   \n",
       "7  {TV,\"Cable TV\",\"Wireless Internet\",\"Wheelchair...             2        1.0   \n",
       "8  {TV,\"Cable TV\",\"Wireless Internet\",\"Pets live ...             2        1.0   \n",
       "9  {\"Wireless Internet\",\"Air conditioning\",Kitche...             2        1.0   \n",
       "\n",
       "   bed_type cancellation_policy  cleaning_fee  ... host_has_profile_pic  \\\n",
       "0  Real Bed              strict          True  ...                    t   \n",
       "1  Real Bed              strict          True  ...                    t   \n",
       "2  Real Bed            moderate          True  ...                    t   \n",
       "3  Real Bed            flexible          True  ...                    t   \n",
       "4  Real Bed            moderate          True  ...                    t   \n",
       "5  Real Bed              strict          True  ...                    t   \n",
       "6  Real Bed            moderate          True  ...                    t   \n",
       "7  Real Bed            moderate          True  ...                    t   \n",
       "8  Real Bed            moderate          True  ...                    t   \n",
       "9  Real Bed            moderate          True  ...                    t   \n",
       "\n",
       "  host_identity_verified  host_since instant_bookable   latitude   longitude  \\\n",
       "0                      t  2012-03-26                f  40.696524  -73.991617   \n",
       "1                      f  2017-06-19                t  40.766115  -73.989040   \n",
       "2                      t  2016-10-25                t  40.808110  -73.943756   \n",
       "3                      t  2015-04-19                f  37.772004 -122.431619   \n",
       "4                      t  2015-03-01                t  38.925627  -77.034596   \n",
       "5                      t  2017-06-07                t  37.753164 -122.429526   \n",
       "6                      f  2017-03-03                t  33.980454 -118.462821   \n",
       "7                      t  2013-05-18                f  34.046737 -118.260439   \n",
       "8                      f  2015-06-04                f  37.781128 -122.501095   \n",
       "9                      f  2017-03-12                t  33.992563 -117.895997   \n",
       "\n",
       "                                                name      neighbourhood  \\\n",
       "0                     Beautiful brownstone 1-bedroom   Brooklyn Heights   \n",
       "1           Superb 3BR Apt Located Near Times Square     Hell's Kitchen   \n",
       "2                                   The Garden Oasis             Harlem   \n",
       "3                 Beautiful Flat in the Heart of SF!       Lower Haight   \n",
       "4                         Great studio in midtown DC   Columbia Heights   \n",
       "5                        Comfort Suite San Francisco         Noe Valley   \n",
       "6                Beach Town Studio and Parking!!!11h                NaN   \n",
       "7  Near LA Live, Staple's. Starbucks inside. OWN ...           Downtown   \n",
       "8                 Cozy Garden Studio - Private Entry  Richmond District   \n",
       "9                    No.7 Queen Size Cozy Room 舒适大床房                NaN   \n",
       "\n",
       "  bedrooms beds  \n",
       "0      1.0  1.0  \n",
       "1      3.0  3.0  \n",
       "2      1.0  3.0  \n",
       "3      2.0  2.0  \n",
       "4      0.0  1.0  \n",
       "5      1.0  1.0  \n",
       "6      1.0  1.0  \n",
       "7      1.0  1.0  \n",
       "8      1.0  1.0  \n",
       "9      1.0  1.0  \n",
       "\n",
       "[10 rows x 22 columns]"
      ]
     },
     "execution_count": 3,
     "metadata": {},
     "output_type": "execute_result"
    }
   ],
   "source": [
    "df_data.head(10)"
   ]
  },
  {
   "cell_type": "markdown",
   "metadata": {},
   "source": [
    "**As we can see, data contains 22 features.**"
   ]
  },
  {
   "cell_type": "code",
   "execution_count": 4,
   "metadata": {},
   "outputs": [
    {
     "data": {
      "text/plain": [
       "74111"
      ]
     },
     "execution_count": 4,
     "metadata": {},
     "output_type": "execute_result"
    }
   ],
   "source": [
    "len(df_data)"
   ]
  },
  {
   "cell_type": "markdown",
   "metadata": {},
   "source": [
    "**We have 74111 records in our data of people registered their place on Airbnb in different city of United States.**"
   ]
  },
  {
   "cell_type": "markdown",
   "metadata": {},
   "source": [
    "## Lets check for any missing values"
   ]
  },
  {
   "cell_type": "code",
   "execution_count": 5,
   "metadata": {},
   "outputs": [
    {
     "name": "stdout",
     "output_type": "stream",
     "text": [
      "bathrooms\n",
      "host_has_profile_pic\n",
      "host_identity_verified\n",
      "host_since\n",
      "neighbourhood\n",
      "bedrooms\n",
      "beds\n"
     ]
    }
   ],
   "source": [
    "for column in df_data:\n",
    "    if (df_data[column].isnull().any()):\n",
    "        print(column)"
   ]
  },
  {
   "cell_type": "markdown",
   "metadata": {},
   "source": [
    "Above shows we have 7 column which contain missing values.\n",
    "\n",
    "Lets gets in depth about missing values."
   ]
  },
  {
   "cell_type": "code",
   "execution_count": 6,
   "metadata": {},
   "outputs": [
    {
     "data": {
      "text/plain": [
       "id                           0\n",
       "log_price                    0\n",
       "property_type                0\n",
       "room_type                    0\n",
       "amenities                    0\n",
       "accommodates                 0\n",
       "bathrooms                  200\n",
       "bed_type                     0\n",
       "cancellation_policy          0\n",
       "cleaning_fee                 0\n",
       "city                         0\n",
       "description                  0\n",
       "host_has_profile_pic       188\n",
       "host_identity_verified     188\n",
       "host_since                 188\n",
       "instant_bookable             0\n",
       "latitude                     0\n",
       "longitude                    0\n",
       "name                         0\n",
       "neighbourhood             6872\n",
       "bedrooms                    91\n",
       "beds                       131\n",
       "dtype: int64"
      ]
     },
     "execution_count": 6,
     "metadata": {},
     "output_type": "execute_result"
    }
   ],
   "source": [
    "df_data.isnull().sum()"
   ]
  },
  {
   "cell_type": "markdown",
   "metadata": {},
   "source": [
    "For filling the missing values in neighbourhood column"
   ]
  },
  {
   "cell_type": "code",
   "execution_count": 7,
   "metadata": {},
   "outputs": [
    {
     "data": {
      "text/plain": [
       "620"
      ]
     },
     "execution_count": 7,
     "metadata": {},
     "output_type": "execute_result"
    }
   ],
   "source": [
    "len(df_data['neighbourhood'].unique())"
   ]
  },
  {
   "cell_type": "code",
   "execution_count": 8,
   "metadata": {},
   "outputs": [
    {
     "data": {
      "text/plain": [
       "array(['Brooklyn Heights', \"Hell's Kitchen\", 'Harlem', 'Lower Haight',\n",
       "       'Columbia Heights', 'Noe Valley', nan, 'Downtown',\n",
       "       'Richmond District', 'Alphabet City', 'Hermosa Beach', 'Torrance',\n",
       "       'U Street Corridor', 'Humboldt Park', 'Wicker Park',\n",
       "       'South Boston', 'Lower East Side', 'Flatbush', 'Sherman Oaks',\n",
       "       'East Flatbush', 'Valley Glen', 'Dupont Circle', 'Jamaica',\n",
       "       'Forest Hills', 'Murray Hill', 'Lefferts Garden', 'Mid-Wilshire',\n",
       "       'Venice', 'West Hollywood', 'Brownsville', 'Williamsburg',\n",
       "       'East Village', 'South Loop/Printers Row', 'Westlake',\n",
       "       'Hollywood Hills', 'Upper East Side', 'Bushwick',\n",
       "       'Bedford-Stuyvesant', 'Pilsen', 'Chelsea', 'Sunnyside',\n",
       "       'Greenwich Village', 'Washington Heights', 'Pasadena',\n",
       "       'Potrero Hill', 'Brookland', 'Los Feliz', 'Hollywood',\n",
       "       'Midtown East', 'Glendale', 'Park Slope', 'Arcadia',\n",
       "       'West Village', 'Astoria', 'Portola', 'Burbank', 'East Harlem',\n",
       "       'Silver Lake', 'Hillbrook', 'Shaw', 'Hillcrest',\n",
       "       'Morningside Heights', 'Tribeca', 'Studio City',\n",
       "       'Western Addition/NOPA', 'Echo Park', 'Financial District',\n",
       "       'Lakeview', 'Gramercy Park', 'Mission District', 'Kingman Park',\n",
       "       'Sunset Park', 'Upper West Side', 'Greenpoint', 'Highland Park',\n",
       "       'Cleveland Park', 'Prospect Heights', 'Glover Park', 'Gravesend',\n",
       "       'Jamaica Plain', 'Beacon Hill', 'SoMa', 'Flushing', 'Van Nuys',\n",
       "       'Del Rey', 'Midtown', 'Soho', 'Mission Hill', 'Roosevelt Island',\n",
       "       'Marina Del Rey', 'West Roxbury', 'Streeterville',\n",
       "       'Bernal Heights', 'Soundview', 'North Beach', 'Belmont Cragin',\n",
       "       'Crown Heights', 'Gowanus', 'Boerum Hill', 'Greenwood Heights',\n",
       "       'Chinatown', 'Charlestown', 'Alhambra', 'South End',\n",
       "       'Windsor Terrace', 'Sheepshead Bay', 'Westwood', 'Malibu',\n",
       "       'Allston-Brighton', 'Clinton Hill', 'The Castro', 'Alamo Square',\n",
       "       'Westerleigh', 'Georgetown', 'North Hollywood', 'Twin Peaks',\n",
       "       'Pacoima', 'Roxbury', 'Ridgewood', 'Battery Park City',\n",
       "       'Park View', 'Lomita', 'Mid-City', 'Sun Valley', 'Haight-Ashbury',\n",
       "       'River North', 'Cahuenga Pass', 'Cerritos', 'Arts District',\n",
       "       'Valley Village', 'West Adams', 'North End', 'The Rockaways',\n",
       "       'Santa Monica', 'Downtown Brooklyn', 'Midwood', 'Inglewood',\n",
       "       'Capitol Hill', 'Beverly Hills', 'Fenway/Kenmore', 'Foggy Bottom',\n",
       "       'East Hollywood', 'Gardena', 'Mount Pleasant', 'Gold Coast',\n",
       "       'Mission Terrace', 'Near Northeast/H Street Corridor',\n",
       "       'Northridge', 'Woodridge', 'Petworth', 'Toluca Lake', 'San Pedro',\n",
       "       'Colonial Village', 'Nob Hill', 'Edgewater', 'LeDroit Park',\n",
       "       'Fort Greene', 'Flatiron District', 'Lake Balboa', 'Bay Ridge',\n",
       "       'Telegraph Hill', 'West End', 'Bloomingdale', 'Judiciary Square',\n",
       "       'Downtown Crossing', 'Pacific Palisades', 'West Town/Noble Square',\n",
       "       'Glendora', 'Mount Washington', 'Cole Valley', 'Uptown',\n",
       "       'Russian Hill', 'Manor Park', 'Inwood', 'Benning Heights',\n",
       "       'Visitacion Valley', 'Ukrainian Village', 'Kips Bay',\n",
       "       'Eastchester', '16th Street Heights', 'Long Island City',\n",
       "       'Hamilton Heights', 'Carroll Gardens', 'Bel Air/Beverly Crest',\n",
       "       'Hayes Valley', 'Rego Park', 'Lincoln Park', 'Bayside',\n",
       "       'Dorchester', 'Hawthorne', 'West Loop/Greektown', 'Redondo Beach',\n",
       "       'Culver City', 'Portage Park', 'Bayview', 'Barney Circle',\n",
       "       'Back Bay', 'North Hills West', 'Mott Haven', 'Michigan Park',\n",
       "       'Westchester/Playa Del Rey', 'Pacific Heights', 'Monterey Hills',\n",
       "       'Jackson Heights', 'Long Beach', 'Manhattan Beach', 'Fort Totten',\n",
       "       'Hudson Square', 'Laurel Canyon', 'Marine Park', 'Parkside',\n",
       "       'Trinidad', 'Lincoln Square', 'Little Italy', 'Chevy Chase',\n",
       "       'Crocker Amazon', 'Inner Sunset', 'Fort Wadsworth', 'Bensonhurst',\n",
       "       'Anacostia', 'South LA', 'Winthrop', 'Altadena',\n",
       "       'West Los Angeles', 'South Street Seaport', 'Union Square',\n",
       "       'Duboce Triangle', 'Hyde Park', 'East New York', 'Adams Morgan',\n",
       "       'Castleton Corners', 'Wakefield', 'Azusa', 'Logan Circle',\n",
       "       'Mar Vista', 'Fort Dupont', 'Ozone Park', 'Stronghold',\n",
       "       'South Robertson', 'Noho', 'Old Town', 'Ingleside', 'Canarsie',\n",
       "       'Kalorama', 'Downtown/Penn Quarter', 'Topanga',\n",
       "       'Columbia Street Waterfront', 'Maspeth', 'Boystown', 'Fordham',\n",
       "       'Southwest Waterfront', 'West Ridge', 'St. George', 'Bellevue',\n",
       "       'Stapleton', 'Lawndale', 'Encino', 'Brooklyn Navy Yard', 'Nolita',\n",
       "       'Civic Center', 'Truxton Circle', 'University Heights',\n",
       "       'Times Square/Theatre District', 'Avondale', 'Kensington',\n",
       "       'East San Gabriel', 'Eagle Rock', 'Ditmars / Steinway', 'Fairlawn',\n",
       "       'Irving Park', 'Mount Eden', 'South Beach', 'Flatlands',\n",
       "       'Lincoln Heights', 'Bronzeville', 'Bradbury', 'San Gabriel',\n",
       "       'Red Hook', 'Claremont', 'Austin', 'Carson', 'East Boston',\n",
       "       'Brighton Beach', 'Woodhaven', 'Cow Hollow', 'Logan Square',\n",
       "       'Hunts Point', 'Baldwin Hills', 'Bucktown', 'Kew Garden Hills',\n",
       "       'Highbridge', 'Meatpacking District', 'South Ozone Park', 'Loop',\n",
       "       'Middle Village', 'Navy Yard', 'Brentwood',\n",
       "       'Woodland Hills/Warner Center', 'Outer Sunset', 'Rosebank',\n",
       "       'Riverdale', 'Oakwood', 'Glassell Park', 'Mount Vernon Square',\n",
       "       'Granada Hills North', 'Bridgeport', 'Marina', 'West Brighton',\n",
       "       'Queens', 'Little Italy/UIC', 'Westside', 'Rancho Palos Verdes',\n",
       "       'Woodside', 'Fort Lincoln', 'Tenderloin', 'Japantown',\n",
       "       'Norwood Park', 'Elysian Valley', 'Dogpatch', 'Excelsior',\n",
       "       'Concord', 'Rosemead', 'Reseda', 'West Hills', 'East Elmhurst',\n",
       "       'Eckington', 'Concourse', 'Palms', 'Andersonville', 'Rogers Park',\n",
       "       'River Terrace', 'Dyker Heights', 'Theater District',\n",
       "       'Throgs Neck', 'South Pasadena', 'Sunland/Tujunga',\n",
       "       'Richmond Hill', 'El Segundo', 'Skid Row', 'Tremont',\n",
       "       'Forest Hill', 'Porter Ranch', 'Bergen Beach', 'Monterey Park',\n",
       "       'Lakewood', 'Diamond Heights', 'Englewood', 'Chatsworth',\n",
       "       'Roslindale', 'Atwater Village', 'Compton', 'Elmhurst',\n",
       "       'Lakeshore', 'Chestnut Hill', 'Kingsbridge Heights', 'Oceanview',\n",
       "       'North Michigan Park', 'Van Nest', 'Near West Side', 'Tarzana',\n",
       "       'City Island', 'Coney Island', 'Somerville', 'Congress Heights',\n",
       "       'Woodley Park', 'Winnetka', 'Grand Crossing', 'Roscoe Village',\n",
       "       'Garfield Park', 'River West',\n",
       "       'Central Northeast/Mahaning Heights', 'Kingsbridge', 'Marble Hill',\n",
       "       'Crestwood', 'Daly City', 'Dunning', 'Corona', 'Emerson Hill',\n",
       "       'Edgewood', 'Morris Heights', 'Mattapan', 'Ivy City', 'Palisades',\n",
       "       'Mt Rainier/Brentwood, MD', 'Temple City', 'Baychester',\n",
       "       'Presidio Heights', 'Pico Rivera', 'El Monte', 'Hermon',\n",
       "       'Glen Park', 'East Corner', 'Parkchester', 'Whitestone',\n",
       "       'Cobble Hill', 'Takoma', 'Near North Side', 'South Shore',\n",
       "       'Bedford Park', 'Vernon', 'Pelham Bay', 'Benning Ridge',\n",
       "       'Manhattan', 'Concourse Village', 'La Canada Flintridge',\n",
       "       'Lamond Riggs', 'Utopia', 'Foxhall', 'Longwood', 'Howard Beach',\n",
       "       'West Covina', 'Woodlawn', 'Mission Bay', 'Balboa Terrace',\n",
       "       'Vinegar Hill', 'Langdon', 'North Center', 'Covina', 'Morrisania',\n",
       "       'College Point', 'Douglass', 'Monrovia', 'McKinley Park',\n",
       "       'Observatory Circle', 'West Athens', 'Cambridge',\n",
       "       'Government Center', 'East Los Angeles', 'Gateway',\n",
       "       'Leather District', 'Fresh Meadows', 'Crotona', 'Carver Langston',\n",
       "       'Pleasant Plains', 'Marshall Heights', 'Sierra Madre',\n",
       "       \"Fisherman's Wharf\", 'Whittier', 'Little Village',\n",
       "       'West Puente Valley', 'Benning', 'Randle Highlands', 'Kent',\n",
       "       'Lynwood', 'Tompkinsville', 'La Puente', 'La Mirada', 'Chatham',\n",
       "       'El Sereno', 'Borough Park', 'Kenwood', 'American University Park',\n",
       "       'Printers Row', 'Boyle Heights', 'Jefferson Park', 'Brightwood',\n",
       "       'Palos Verdes', 'Park Versailles', 'Skyland', 'Midland Beach',\n",
       "       'West Lawn', 'La Crescenta-Montrose', 'Williamsbridge',\n",
       "       'Harbor City', 'Cathedral Heights', 'Berkley', 'Eltingville',\n",
       "       'Pleasant Hill', 'Panorama City', 'Cypress Park', 'West Town',\n",
       "       'North Lawndale', 'Wrigleyville', 'Good Hope', 'Bethesda, MD',\n",
       "       'Meiers Corners', 'Rolling Hills Estates', 'Mt. Vernon Square',\n",
       "       'Brooklyn', 'Archer Heights', 'Friendship Heights', 'DUMBO',\n",
       "       'Brookline', 'Harbor Gateway', 'Sea Cliff', 'Bellflower',\n",
       "       'Wesley Heights', 'Westmont', 'West Elsdon', 'Back of the Yards',\n",
       "       'Bronxdale', 'Hilcrest Heights/Marlow Heights, MD', 'Twining',\n",
       "       'Florence-Graham', 'West Portal', 'The Bronx', 'Grasmere',\n",
       "       'Melrose', 'Pullman', 'Hermosa', 'Canoga Park', 'North Hills East',\n",
       "       'South San Gabriel', 'Allerton', 'Norwood', 'Sea Gate', 'Sylmar',\n",
       "       'Belmont', 'Grymes Hill', 'Albany Park', 'Arleta', 'San Marino',\n",
       "       'Morris Park', 'North Cleveland Park', 'Washington Park', 'Duarte',\n",
       "       'Oakland', 'Clearing', 'South Gate', 'Co-op City', 'Shepherd Park',\n",
       "       'New Brighton', 'Bell', 'Edenwald', 'Burleith', 'Norwalk',\n",
       "       'North Park', 'Annadale', 'Montecito Heights', 'Huntington Park',\n",
       "       'Hawaiian Gardens', 'Auburn Gresham', 'Westchester Village',\n",
       "       \"O'Hare\", 'Gallaudet', 'Mt. Pleasant', 'South Whittier', 'Downey',\n",
       "       'Elm Park', 'Spuyten Duyvil', 'Santa Fe Springs',\n",
       "       'Massachusetts Heights', 'Coolidge Corner', 'Todt Hill',\n",
       "       'Buena Vista', 'Galewood', 'Mariners Harbor', 'West Farms',\n",
       "       'Deanwood', 'Armour Square', 'Port Morris',\n",
       "       'Suitland-Silver Hill, MD', 'Dupont Park', 'Brighton Park',\n",
       "       'Montebello', 'Morgan Park', 'Chevy Chase, MD', 'Garfield Heights',\n",
       "       'Castle Hill ', \"Old Soldiers' Home\", 'New Springville',\n",
       "       'Port Richmond', 'Eastland Gardens', 'Shipley Terrace', 'Artesia',\n",
       "       'Randall Manor', 'Paramount', 'Greenway', 'Baldwin Park',\n",
       "       'Bath Beach', 'Mission Hills', 'St. Elizabeths',\n",
       "       'Washington Highlands', 'Dongan Hills', 'Chillum, MD',\n",
       "       'Alondra Park', 'Huguenot', 'Fort Davis', 'Watts', 'Signal Hill',\n",
       "       'Great Kills', 'Willowbrook', 'Roseland', 'Arrochar',\n",
       "       'Edison Park', 'Silver Spring, MD', 'Mill Basin', 'South Chicago',\n",
       "       'Graniteville', 'Garfield Ridge', 'Spring Valley', 'Tottenville',\n",
       "       'Presidio', 'Lindenwood', 'Naylor Gardens', 'Clifton', 'Ashburn',\n",
       "       'Beverly', 'Barry Farm', 'Wilmington', 'Country Club',\n",
       "       'Lighthouse HIll', 'Magnificent Mile', 'Arboretum', 'Woodland',\n",
       "       'New Dorp Beach', 'Takoma Park, MD', 'Near Northeast',\n",
       "       'Harvard Square', 'Commerce', 'South El Monte', 'Montclare',\n",
       "       'Newton', 'Watertown', 'Gerritsen Beach', 'Rossville', 'La Habra',\n",
       "       'Irwindale', 'Rolling Hills', 'Grant City'], dtype=object)"
      ]
     },
     "execution_count": 8,
     "metadata": {},
     "output_type": "execute_result"
    }
   ],
   "source": [
    "df_data['neighbourhood'].unique()"
   ]
  },
  {
   "cell_type": "markdown",
   "metadata": {},
   "source": [
    "Since we have 620 unique values. We now left with two options either to fill values using missing values or drop the columns. Since the missing value is approx **10%** we can fill all the missing value with unique values."
   ]
  },
  {
   "cell_type": "code",
   "execution_count": 9,
   "metadata": {},
   "outputs": [
    {
     "data": {
      "text/html": [
       "<div>\n",
       "<style scoped>\n",
       "    .dataframe tbody tr th:only-of-type {\n",
       "        vertical-align: middle;\n",
       "    }\n",
       "\n",
       "    .dataframe tbody tr th {\n",
       "        vertical-align: top;\n",
       "    }\n",
       "\n",
       "    .dataframe thead th {\n",
       "        text-align: right;\n",
       "    }\n",
       "</style>\n",
       "<table border=\"1\" class=\"dataframe\">\n",
       "  <thead>\n",
       "    <tr style=\"text-align: right;\">\n",
       "      <th></th>\n",
       "      <th>id</th>\n",
       "      <th>log_price</th>\n",
       "      <th>property_type</th>\n",
       "      <th>room_type</th>\n",
       "      <th>amenities</th>\n",
       "      <th>accommodates</th>\n",
       "      <th>bathrooms</th>\n",
       "      <th>bed_type</th>\n",
       "      <th>cancellation_policy</th>\n",
       "      <th>cleaning_fee</th>\n",
       "      <th>...</th>\n",
       "      <th>description</th>\n",
       "      <th>host_has_profile_pic</th>\n",
       "      <th>host_identity_verified</th>\n",
       "      <th>host_since</th>\n",
       "      <th>instant_bookable</th>\n",
       "      <th>latitude</th>\n",
       "      <th>longitude</th>\n",
       "      <th>name</th>\n",
       "      <th>bedrooms</th>\n",
       "      <th>beds</th>\n",
       "    </tr>\n",
       "  </thead>\n",
       "  <tbody>\n",
       "    <tr>\n",
       "      <th>0</th>\n",
       "      <td>6901257</td>\n",
       "      <td>5.010635</td>\n",
       "      <td>Apartment</td>\n",
       "      <td>Entire home/apt</td>\n",
       "      <td>{\"Wireless Internet\",\"Air conditioning\",Kitche...</td>\n",
       "      <td>3</td>\n",
       "      <td>1.0</td>\n",
       "      <td>Real Bed</td>\n",
       "      <td>strict</td>\n",
       "      <td>True</td>\n",
       "      <td>...</td>\n",
       "      <td>Beautiful, sunlit brownstone 1-bedroom in the ...</td>\n",
       "      <td>t</td>\n",
       "      <td>t</td>\n",
       "      <td>2012-03-26</td>\n",
       "      <td>f</td>\n",
       "      <td>40.696524</td>\n",
       "      <td>-73.991617</td>\n",
       "      <td>Beautiful brownstone 1-bedroom</td>\n",
       "      <td>1.0</td>\n",
       "      <td>1.0</td>\n",
       "    </tr>\n",
       "    <tr>\n",
       "      <th>1</th>\n",
       "      <td>6304928</td>\n",
       "      <td>5.129899</td>\n",
       "      <td>Apartment</td>\n",
       "      <td>Entire home/apt</td>\n",
       "      <td>{\"Wireless Internet\",\"Air conditioning\",Kitche...</td>\n",
       "      <td>7</td>\n",
       "      <td>1.0</td>\n",
       "      <td>Real Bed</td>\n",
       "      <td>strict</td>\n",
       "      <td>True</td>\n",
       "      <td>...</td>\n",
       "      <td>Enjoy travelling during your stay in Manhattan...</td>\n",
       "      <td>t</td>\n",
       "      <td>f</td>\n",
       "      <td>2017-06-19</td>\n",
       "      <td>t</td>\n",
       "      <td>40.766115</td>\n",
       "      <td>-73.989040</td>\n",
       "      <td>Superb 3BR Apt Located Near Times Square</td>\n",
       "      <td>3.0</td>\n",
       "      <td>3.0</td>\n",
       "    </tr>\n",
       "    <tr>\n",
       "      <th>2</th>\n",
       "      <td>7919400</td>\n",
       "      <td>4.976734</td>\n",
       "      <td>Apartment</td>\n",
       "      <td>Entire home/apt</td>\n",
       "      <td>{TV,\"Cable TV\",\"Wireless Internet\",\"Air condit...</td>\n",
       "      <td>5</td>\n",
       "      <td>1.0</td>\n",
       "      <td>Real Bed</td>\n",
       "      <td>moderate</td>\n",
       "      <td>True</td>\n",
       "      <td>...</td>\n",
       "      <td>The Oasis comes complete with a full backyard ...</td>\n",
       "      <td>t</td>\n",
       "      <td>t</td>\n",
       "      <td>2016-10-25</td>\n",
       "      <td>t</td>\n",
       "      <td>40.808110</td>\n",
       "      <td>-73.943756</td>\n",
       "      <td>The Garden Oasis</td>\n",
       "      <td>1.0</td>\n",
       "      <td>3.0</td>\n",
       "    </tr>\n",
       "    <tr>\n",
       "      <th>3</th>\n",
       "      <td>13418779</td>\n",
       "      <td>6.620073</td>\n",
       "      <td>House</td>\n",
       "      <td>Entire home/apt</td>\n",
       "      <td>{TV,\"Cable TV\",Internet,\"Wireless Internet\",Ki...</td>\n",
       "      <td>4</td>\n",
       "      <td>1.0</td>\n",
       "      <td>Real Bed</td>\n",
       "      <td>flexible</td>\n",
       "      <td>True</td>\n",
       "      <td>...</td>\n",
       "      <td>This light-filled home-away-from-home is super...</td>\n",
       "      <td>t</td>\n",
       "      <td>t</td>\n",
       "      <td>2015-04-19</td>\n",
       "      <td>f</td>\n",
       "      <td>37.772004</td>\n",
       "      <td>-122.431619</td>\n",
       "      <td>Beautiful Flat in the Heart of SF!</td>\n",
       "      <td>2.0</td>\n",
       "      <td>2.0</td>\n",
       "    </tr>\n",
       "    <tr>\n",
       "      <th>4</th>\n",
       "      <td>3808709</td>\n",
       "      <td>4.744932</td>\n",
       "      <td>Apartment</td>\n",
       "      <td>Entire home/apt</td>\n",
       "      <td>{TV,Internet,\"Wireless Internet\",\"Air conditio...</td>\n",
       "      <td>2</td>\n",
       "      <td>1.0</td>\n",
       "      <td>Real Bed</td>\n",
       "      <td>moderate</td>\n",
       "      <td>True</td>\n",
       "      <td>...</td>\n",
       "      <td>Cool, cozy, and comfortable studio located in ...</td>\n",
       "      <td>t</td>\n",
       "      <td>t</td>\n",
       "      <td>2015-03-01</td>\n",
       "      <td>t</td>\n",
       "      <td>38.925627</td>\n",
       "      <td>-77.034596</td>\n",
       "      <td>Great studio in midtown DC</td>\n",
       "      <td>0.0</td>\n",
       "      <td>1.0</td>\n",
       "    </tr>\n",
       "    <tr>\n",
       "      <th>...</th>\n",
       "      <td>...</td>\n",
       "      <td>...</td>\n",
       "      <td>...</td>\n",
       "      <td>...</td>\n",
       "      <td>...</td>\n",
       "      <td>...</td>\n",
       "      <td>...</td>\n",
       "      <td>...</td>\n",
       "      <td>...</td>\n",
       "      <td>...</td>\n",
       "      <td>...</td>\n",
       "      <td>...</td>\n",
       "      <td>...</td>\n",
       "      <td>...</td>\n",
       "      <td>...</td>\n",
       "      <td>...</td>\n",
       "      <td>...</td>\n",
       "      <td>...</td>\n",
       "      <td>...</td>\n",
       "      <td>...</td>\n",
       "      <td>...</td>\n",
       "    </tr>\n",
       "    <tr>\n",
       "      <th>74106</th>\n",
       "      <td>14549287</td>\n",
       "      <td>4.605170</td>\n",
       "      <td>Apartment</td>\n",
       "      <td>Private room</td>\n",
       "      <td>{}</td>\n",
       "      <td>1</td>\n",
       "      <td>1.0</td>\n",
       "      <td>Real Bed</td>\n",
       "      <td>flexible</td>\n",
       "      <td>False</td>\n",
       "      <td>...</td>\n",
       "      <td>one room in bushwick apt</td>\n",
       "      <td>t</td>\n",
       "      <td>t</td>\n",
       "      <td>2013-03-24</td>\n",
       "      <td>f</td>\n",
       "      <td>40.709025</td>\n",
       "      <td>-73.939405</td>\n",
       "      <td>one room bushwick</td>\n",
       "      <td>1.0</td>\n",
       "      <td>1.0</td>\n",
       "    </tr>\n",
       "    <tr>\n",
       "      <th>74107</th>\n",
       "      <td>13281809</td>\n",
       "      <td>5.043425</td>\n",
       "      <td>Apartment</td>\n",
       "      <td>Entire home/apt</td>\n",
       "      <td>{TV,\"Cable TV\",Internet,\"Wireless Internet\",Ki...</td>\n",
       "      <td>4</td>\n",
       "      <td>2.0</td>\n",
       "      <td>Real Bed</td>\n",
       "      <td>moderate</td>\n",
       "      <td>True</td>\n",
       "      <td>...</td>\n",
       "      <td>Located on the Pacific Coast Highway, this apa...</td>\n",
       "      <td>t</td>\n",
       "      <td>f</td>\n",
       "      <td>2016-05-03</td>\n",
       "      <td>f</td>\n",
       "      <td>33.871549</td>\n",
       "      <td>-118.396053</td>\n",
       "      <td>Spacious Hermosa 2 BR on PCH</td>\n",
       "      <td>2.0</td>\n",
       "      <td>4.0</td>\n",
       "    </tr>\n",
       "    <tr>\n",
       "      <th>74108</th>\n",
       "      <td>18688039</td>\n",
       "      <td>5.220356</td>\n",
       "      <td>Apartment</td>\n",
       "      <td>Entire home/apt</td>\n",
       "      <td>{TV,Internet,\"Wireless Internet\",\"Air conditio...</td>\n",
       "      <td>5</td>\n",
       "      <td>1.0</td>\n",
       "      <td>Real Bed</td>\n",
       "      <td>moderate</td>\n",
       "      <td>True</td>\n",
       "      <td>...</td>\n",
       "      <td>A modern apartment located in East Williamsbur...</td>\n",
       "      <td>t</td>\n",
       "      <td>t</td>\n",
       "      <td>2012-01-05</td>\n",
       "      <td>t</td>\n",
       "      <td>40.706749</td>\n",
       "      <td>-73.942377</td>\n",
       "      <td>Modern 2 Bedroom Apartment in Williamsburg</td>\n",
       "      <td>2.0</td>\n",
       "      <td>2.0</td>\n",
       "    </tr>\n",
       "    <tr>\n",
       "      <th>74109</th>\n",
       "      <td>17045948</td>\n",
       "      <td>5.273000</td>\n",
       "      <td>Apartment</td>\n",
       "      <td>Entire home/apt</td>\n",
       "      <td>{TV,\"Wireless Internet\",\"Air conditioning\",Kit...</td>\n",
       "      <td>2</td>\n",
       "      <td>1.0</td>\n",
       "      <td>Real Bed</td>\n",
       "      <td>strict</td>\n",
       "      <td>True</td>\n",
       "      <td>...</td>\n",
       "      <td>Fully renovated, designer's studio located in ...</td>\n",
       "      <td>t</td>\n",
       "      <td>f</td>\n",
       "      <td>2017-09-17</td>\n",
       "      <td>t</td>\n",
       "      <td>40.738535</td>\n",
       "      <td>-74.000157</td>\n",
       "      <td>Designer's Apartment in HEART of NYC</td>\n",
       "      <td>0.0</td>\n",
       "      <td>2.0</td>\n",
       "    </tr>\n",
       "    <tr>\n",
       "      <th>74110</th>\n",
       "      <td>3534845</td>\n",
       "      <td>4.852030</td>\n",
       "      <td>Boat</td>\n",
       "      <td>Entire home/apt</td>\n",
       "      <td>{TV,Internet,\"Wireless Internet\",Kitchen,\"Free...</td>\n",
       "      <td>4</td>\n",
       "      <td>1.0</td>\n",
       "      <td>Real Bed</td>\n",
       "      <td>moderate</td>\n",
       "      <td>False</td>\n",
       "      <td>...</td>\n",
       "      <td>You will stay-aboard the Island Trader at one ...</td>\n",
       "      <td>t</td>\n",
       "      <td>t</td>\n",
       "      <td>2012-11-26</td>\n",
       "      <td>f</td>\n",
       "      <td>33.761096</td>\n",
       "      <td>-118.192409</td>\n",
       "      <td>Cozy Boat at Shoreline Village</td>\n",
       "      <td>1.0</td>\n",
       "      <td>2.0</td>\n",
       "    </tr>\n",
       "  </tbody>\n",
       "</table>\n",
       "<p>74111 rows × 21 columns</p>\n",
       "</div>"
      ],
      "text/plain": [
       "             id  log_price property_type        room_type  \\\n",
       "0       6901257   5.010635     Apartment  Entire home/apt   \n",
       "1       6304928   5.129899     Apartment  Entire home/apt   \n",
       "2       7919400   4.976734     Apartment  Entire home/apt   \n",
       "3      13418779   6.620073         House  Entire home/apt   \n",
       "4       3808709   4.744932     Apartment  Entire home/apt   \n",
       "...         ...        ...           ...              ...   \n",
       "74106  14549287   4.605170     Apartment     Private room   \n",
       "74107  13281809   5.043425     Apartment  Entire home/apt   \n",
       "74108  18688039   5.220356     Apartment  Entire home/apt   \n",
       "74109  17045948   5.273000     Apartment  Entire home/apt   \n",
       "74110   3534845   4.852030          Boat  Entire home/apt   \n",
       "\n",
       "                                               amenities  accommodates  \\\n",
       "0      {\"Wireless Internet\",\"Air conditioning\",Kitche...             3   \n",
       "1      {\"Wireless Internet\",\"Air conditioning\",Kitche...             7   \n",
       "2      {TV,\"Cable TV\",\"Wireless Internet\",\"Air condit...             5   \n",
       "3      {TV,\"Cable TV\",Internet,\"Wireless Internet\",Ki...             4   \n",
       "4      {TV,Internet,\"Wireless Internet\",\"Air conditio...             2   \n",
       "...                                                  ...           ...   \n",
       "74106                                                 {}             1   \n",
       "74107  {TV,\"Cable TV\",Internet,\"Wireless Internet\",Ki...             4   \n",
       "74108  {TV,Internet,\"Wireless Internet\",\"Air conditio...             5   \n",
       "74109  {TV,\"Wireless Internet\",\"Air conditioning\",Kit...             2   \n",
       "74110  {TV,Internet,\"Wireless Internet\",Kitchen,\"Free...             4   \n",
       "\n",
       "       bathrooms  bed_type cancellation_policy  cleaning_fee  ...  \\\n",
       "0            1.0  Real Bed              strict          True  ...   \n",
       "1            1.0  Real Bed              strict          True  ...   \n",
       "2            1.0  Real Bed            moderate          True  ...   \n",
       "3            1.0  Real Bed            flexible          True  ...   \n",
       "4            1.0  Real Bed            moderate          True  ...   \n",
       "...          ...       ...                 ...           ...  ...   \n",
       "74106        1.0  Real Bed            flexible         False  ...   \n",
       "74107        2.0  Real Bed            moderate          True  ...   \n",
       "74108        1.0  Real Bed            moderate          True  ...   \n",
       "74109        1.0  Real Bed              strict          True  ...   \n",
       "74110        1.0  Real Bed            moderate         False  ...   \n",
       "\n",
       "                                             description host_has_profile_pic  \\\n",
       "0      Beautiful, sunlit brownstone 1-bedroom in the ...                    t   \n",
       "1      Enjoy travelling during your stay in Manhattan...                    t   \n",
       "2      The Oasis comes complete with a full backyard ...                    t   \n",
       "3      This light-filled home-away-from-home is super...                    t   \n",
       "4      Cool, cozy, and comfortable studio located in ...                    t   \n",
       "...                                                  ...                  ...   \n",
       "74106                          one room in bushwick apt                     t   \n",
       "74107  Located on the Pacific Coast Highway, this apa...                    t   \n",
       "74108  A modern apartment located in East Williamsbur...                    t   \n",
       "74109  Fully renovated, designer's studio located in ...                    t   \n",
       "74110  You will stay-aboard the Island Trader at one ...                    t   \n",
       "\n",
       "      host_identity_verified  host_since instant_bookable   latitude  \\\n",
       "0                          t  2012-03-26                f  40.696524   \n",
       "1                          f  2017-06-19                t  40.766115   \n",
       "2                          t  2016-10-25                t  40.808110   \n",
       "3                          t  2015-04-19                f  37.772004   \n",
       "4                          t  2015-03-01                t  38.925627   \n",
       "...                      ...         ...              ...        ...   \n",
       "74106                      t  2013-03-24                f  40.709025   \n",
       "74107                      f  2016-05-03                f  33.871549   \n",
       "74108                      t  2012-01-05                t  40.706749   \n",
       "74109                      f  2017-09-17                t  40.738535   \n",
       "74110                      t  2012-11-26                f  33.761096   \n",
       "\n",
       "        longitude                                        name bedrooms  beds  \n",
       "0      -73.991617              Beautiful brownstone 1-bedroom      1.0   1.0  \n",
       "1      -73.989040    Superb 3BR Apt Located Near Times Square      3.0   3.0  \n",
       "2      -73.943756                            The Garden Oasis      1.0   3.0  \n",
       "3     -122.431619          Beautiful Flat in the Heart of SF!      2.0   2.0  \n",
       "4      -77.034596                  Great studio in midtown DC      0.0   1.0  \n",
       "...           ...                                         ...      ...   ...  \n",
       "74106  -73.939405                           one room bushwick      1.0   1.0  \n",
       "74107 -118.396053                Spacious Hermosa 2 BR on PCH      2.0   4.0  \n",
       "74108  -73.942377  Modern 2 Bedroom Apartment in Williamsburg      2.0   2.0  \n",
       "74109  -74.000157        Designer's Apartment in HEART of NYC      0.0   2.0  \n",
       "74110 -118.192409              Cozy Boat at Shoreline Village      1.0   2.0  \n",
       "\n",
       "[74111 rows x 21 columns]"
      ]
     },
     "execution_count": 9,
     "metadata": {},
     "output_type": "execute_result"
    }
   ],
   "source": [
    "df_data1 = df_data.drop('neighbourhood',1)\n",
    "df_data1\n",
    "\n",
    "    \n"
   ]
  },
  {
   "cell_type": "markdown",
   "metadata": {},
   "source": [
    "For filling missing values in **Beds, Bedrooms and Bathrooms** columns we can put the mode value."
   ]
  },
  {
   "cell_type": "code",
   "execution_count": 10,
   "metadata": {},
   "outputs": [
    {
     "data": {
      "text/plain": [
       "0    1.0\n",
       "dtype: float64"
      ]
     },
     "execution_count": 10,
     "metadata": {},
     "output_type": "execute_result"
    }
   ],
   "source": [
    "df_data1['bedrooms'].mode()"
   ]
  },
  {
   "cell_type": "code",
   "execution_count": 11,
   "metadata": {},
   "outputs": [
    {
     "data": {
      "text/plain": [
       "0    1.0\n",
       "dtype: float64"
      ]
     },
     "execution_count": 11,
     "metadata": {},
     "output_type": "execute_result"
    }
   ],
   "source": [
    "df_data1['beds'].mode()"
   ]
  },
  {
   "cell_type": "code",
   "execution_count": 12,
   "metadata": {},
   "outputs": [
    {
     "data": {
      "text/plain": [
       "0    1.0\n",
       "dtype: float64"
      ]
     },
     "execution_count": 12,
     "metadata": {},
     "output_type": "execute_result"
    }
   ],
   "source": [
    "df_data1['bathrooms'].mode()"
   ]
  },
  {
   "cell_type": "code",
   "execution_count": 13,
   "metadata": {},
   "outputs": [],
   "source": [
    "df_data1['beds'].fillna(1.0, inplace = True)\n",
    "df_data1['bedrooms'].fillna(1.0, inplace = True)\n",
    "df_data1['bathrooms'].fillna(1.0, inplace = True)"
   ]
  },
  {
   "cell_type": "markdown",
   "metadata": {},
   "source": [
    "For filling the two columns of **Host has profile pic** and **Host identity verified** we can use the mostly used value."
   ]
  },
  {
   "cell_type": "code",
   "execution_count": 14,
   "metadata": {},
   "outputs": [
    {
     "data": {
      "text/plain": [
       "count     73923\n",
       "unique        2\n",
       "top           t\n",
       "freq      73697\n",
       "Name: host_has_profile_pic, dtype: object"
      ]
     },
     "execution_count": 14,
     "metadata": {},
     "output_type": "execute_result"
    }
   ],
   "source": [
    "df_data1['host_has_profile_pic'].describe()"
   ]
  },
  {
   "cell_type": "code",
   "execution_count": 15,
   "metadata": {},
   "outputs": [
    {
     "data": {
      "text/plain": [
       "count     73923\n",
       "unique        2\n",
       "top           t\n",
       "freq      49748\n",
       "Name: host_identity_verified, dtype: object"
      ]
     },
     "execution_count": 15,
     "metadata": {},
     "output_type": "execute_result"
    }
   ],
   "source": [
    "df_data1['host_identity_verified'].describe()"
   ]
  },
  {
   "cell_type": "code",
   "execution_count": 16,
   "metadata": {},
   "outputs": [],
   "source": [
    "df_data1['host_has_profile_pic'].fillna('t', inplace = True)\n",
    "df_data1['host_identity_verified'].fillna('t', inplace = True)"
   ]
  },
  {
   "cell_type": "code",
   "execution_count": 17,
   "metadata": {},
   "outputs": [
    {
     "data": {
      "text/plain": [
       "3088"
      ]
     },
     "execution_count": 17,
     "metadata": {},
     "output_type": "execute_result"
    }
   ],
   "source": [
    "len(df_data1['host_since'].unique())"
   ]
  },
  {
   "cell_type": "markdown",
   "metadata": {},
   "source": [
    "We can drop the Host since column as price does not depend on this column."
   ]
  },
  {
   "cell_type": "code",
   "execution_count": 18,
   "metadata": {},
   "outputs": [],
   "source": [
    "data = df_data1.drop('host_since',1)"
   ]
  },
  {
   "cell_type": "code",
   "execution_count": 19,
   "metadata": {},
   "outputs": [
    {
     "data": {
      "text/plain": [
       "id                        0\n",
       "log_price                 0\n",
       "property_type             0\n",
       "room_type                 0\n",
       "amenities                 0\n",
       "accommodates              0\n",
       "bathrooms                 0\n",
       "bed_type                  0\n",
       "cancellation_policy       0\n",
       "cleaning_fee              0\n",
       "city                      0\n",
       "description               0\n",
       "host_has_profile_pic      0\n",
       "host_identity_verified    0\n",
       "instant_bookable          0\n",
       "latitude                  0\n",
       "longitude                 0\n",
       "name                      0\n",
       "bedrooms                  0\n",
       "beds                      0\n",
       "dtype: int64"
      ]
     },
     "execution_count": 19,
     "metadata": {},
     "output_type": "execute_result"
    }
   ],
   "source": [
    "data.isnull().sum()"
   ]
  },
  {
   "cell_type": "markdown",
   "metadata": {},
   "source": [
    "**As we can see we have filled all the missing values in our tables.**\n",
    "\n",
    "Coming to the info of the table i.e basics information."
   ]
  },
  {
   "cell_type": "code",
   "execution_count": 20,
   "metadata": {},
   "outputs": [
    {
     "data": {
      "text/plain": [
       "id                          int64\n",
       "log_price                 float64\n",
       "property_type              object\n",
       "room_type                  object\n",
       "amenities                  object\n",
       "accommodates                int64\n",
       "bathrooms                 float64\n",
       "bed_type                   object\n",
       "cancellation_policy        object\n",
       "cleaning_fee                 bool\n",
       "city                       object\n",
       "description                object\n",
       "host_has_profile_pic       object\n",
       "host_identity_verified     object\n",
       "instant_bookable           object\n",
       "latitude                  float64\n",
       "longitude                 float64\n",
       "name                       object\n",
       "bedrooms                  float64\n",
       "beds                      float64\n",
       "dtype: object"
      ]
     },
     "execution_count": 20,
     "metadata": {},
     "output_type": "execute_result"
    }
   ],
   "source": [
    "data.dtypes"
   ]
  },
  {
   "cell_type": "markdown",
   "metadata": {},
   "source": [
    "**Our data consists of objects, int and float datatype features.**"
   ]
  },
  {
   "cell_type": "code",
   "execution_count": 21,
   "metadata": {},
   "outputs": [
    {
     "data": {
      "text/html": [
       "<div>\n",
       "<style scoped>\n",
       "    .dataframe tbody tr th:only-of-type {\n",
       "        vertical-align: middle;\n",
       "    }\n",
       "\n",
       "    .dataframe tbody tr th {\n",
       "        vertical-align: top;\n",
       "    }\n",
       "\n",
       "    .dataframe thead th {\n",
       "        text-align: right;\n",
       "    }\n",
       "</style>\n",
       "<table border=\"1\" class=\"dataframe\">\n",
       "  <thead>\n",
       "    <tr style=\"text-align: right;\">\n",
       "      <th></th>\n",
       "      <th>id</th>\n",
       "      <th>log_price</th>\n",
       "      <th>accommodates</th>\n",
       "      <th>bathrooms</th>\n",
       "      <th>latitude</th>\n",
       "      <th>longitude</th>\n",
       "      <th>bedrooms</th>\n",
       "      <th>beds</th>\n",
       "    </tr>\n",
       "  </thead>\n",
       "  <tbody>\n",
       "    <tr>\n",
       "      <th>count</th>\n",
       "      <td>7.411100e+04</td>\n",
       "      <td>74111.000000</td>\n",
       "      <td>74111.000000</td>\n",
       "      <td>74111.000000</td>\n",
       "      <td>74111.000000</td>\n",
       "      <td>74111.000000</td>\n",
       "      <td>74111.000000</td>\n",
       "      <td>74111.000000</td>\n",
       "    </tr>\n",
       "    <tr>\n",
       "      <th>mean</th>\n",
       "      <td>1.126662e+07</td>\n",
       "      <td>4.782069</td>\n",
       "      <td>3.155146</td>\n",
       "      <td>1.234628</td>\n",
       "      <td>38.445958</td>\n",
       "      <td>-92.397525</td>\n",
       "      <td>1.265467</td>\n",
       "      <td>1.709611</td>\n",
       "    </tr>\n",
       "    <tr>\n",
       "      <th>std</th>\n",
       "      <td>6.081735e+06</td>\n",
       "      <td>0.717394</td>\n",
       "      <td>2.153589</td>\n",
       "      <td>0.581386</td>\n",
       "      <td>3.080167</td>\n",
       "      <td>21.705322</td>\n",
       "      <td>0.851671</td>\n",
       "      <td>1.253389</td>\n",
       "    </tr>\n",
       "    <tr>\n",
       "      <th>min</th>\n",
       "      <td>3.440000e+02</td>\n",
       "      <td>0.000000</td>\n",
       "      <td>1.000000</td>\n",
       "      <td>0.000000</td>\n",
       "      <td>33.338905</td>\n",
       "      <td>-122.511500</td>\n",
       "      <td>0.000000</td>\n",
       "      <td>0.000000</td>\n",
       "    </tr>\n",
       "    <tr>\n",
       "      <th>25%</th>\n",
       "      <td>6.261964e+06</td>\n",
       "      <td>4.317488</td>\n",
       "      <td>2.000000</td>\n",
       "      <td>1.000000</td>\n",
       "      <td>34.127908</td>\n",
       "      <td>-118.342374</td>\n",
       "      <td>1.000000</td>\n",
       "      <td>1.000000</td>\n",
       "    </tr>\n",
       "    <tr>\n",
       "      <th>50%</th>\n",
       "      <td>1.225415e+07</td>\n",
       "      <td>4.709530</td>\n",
       "      <td>2.000000</td>\n",
       "      <td>1.000000</td>\n",
       "      <td>40.662138</td>\n",
       "      <td>-76.996965</td>\n",
       "      <td>1.000000</td>\n",
       "      <td>1.000000</td>\n",
       "    </tr>\n",
       "    <tr>\n",
       "      <th>75%</th>\n",
       "      <td>1.640226e+07</td>\n",
       "      <td>5.220356</td>\n",
       "      <td>4.000000</td>\n",
       "      <td>1.000000</td>\n",
       "      <td>40.746096</td>\n",
       "      <td>-73.954660</td>\n",
       "      <td>1.000000</td>\n",
       "      <td>2.000000</td>\n",
       "    </tr>\n",
       "    <tr>\n",
       "      <th>max</th>\n",
       "      <td>2.123090e+07</td>\n",
       "      <td>7.600402</td>\n",
       "      <td>16.000000</td>\n",
       "      <td>8.000000</td>\n",
       "      <td>42.390437</td>\n",
       "      <td>-70.985047</td>\n",
       "      <td>10.000000</td>\n",
       "      <td>18.000000</td>\n",
       "    </tr>\n",
       "  </tbody>\n",
       "</table>\n",
       "</div>"
      ],
      "text/plain": [
       "                 id     log_price  accommodates     bathrooms      latitude  \\\n",
       "count  7.411100e+04  74111.000000  74111.000000  74111.000000  74111.000000   \n",
       "mean   1.126662e+07      4.782069      3.155146      1.234628     38.445958   \n",
       "std    6.081735e+06      0.717394      2.153589      0.581386      3.080167   \n",
       "min    3.440000e+02      0.000000      1.000000      0.000000     33.338905   \n",
       "25%    6.261964e+06      4.317488      2.000000      1.000000     34.127908   \n",
       "50%    1.225415e+07      4.709530      2.000000      1.000000     40.662138   \n",
       "75%    1.640226e+07      5.220356      4.000000      1.000000     40.746096   \n",
       "max    2.123090e+07      7.600402     16.000000      8.000000     42.390437   \n",
       "\n",
       "          longitude      bedrooms          beds  \n",
       "count  74111.000000  74111.000000  74111.000000  \n",
       "mean     -92.397525      1.265467      1.709611  \n",
       "std       21.705322      0.851671      1.253389  \n",
       "min     -122.511500      0.000000      0.000000  \n",
       "25%     -118.342374      1.000000      1.000000  \n",
       "50%      -76.996965      1.000000      1.000000  \n",
       "75%      -73.954660      1.000000      2.000000  \n",
       "max      -70.985047     10.000000     18.000000  "
      ]
     },
     "execution_count": 21,
     "metadata": {},
     "output_type": "execute_result"
    }
   ],
   "source": [
    "data.describe()"
   ]
  },
  {
   "cell_type": "code",
   "execution_count": 22,
   "metadata": {},
   "outputs": [
    {
     "data": {
      "text/html": [
       "<div>\n",
       "<style scoped>\n",
       "    .dataframe tbody tr th:only-of-type {\n",
       "        vertical-align: middle;\n",
       "    }\n",
       "\n",
       "    .dataframe tbody tr th {\n",
       "        vertical-align: top;\n",
       "    }\n",
       "\n",
       "    .dataframe thead th {\n",
       "        text-align: right;\n",
       "    }\n",
       "</style>\n",
       "<table border=\"1\" class=\"dataframe\">\n",
       "  <thead>\n",
       "    <tr style=\"text-align: right;\">\n",
       "      <th></th>\n",
       "      <th>property_type</th>\n",
       "      <th>room_type</th>\n",
       "      <th>amenities</th>\n",
       "      <th>bed_type</th>\n",
       "      <th>cancellation_policy</th>\n",
       "      <th>city</th>\n",
       "      <th>description</th>\n",
       "      <th>host_has_profile_pic</th>\n",
       "      <th>host_identity_verified</th>\n",
       "      <th>instant_bookable</th>\n",
       "      <th>name</th>\n",
       "    </tr>\n",
       "  </thead>\n",
       "  <tbody>\n",
       "    <tr>\n",
       "      <th>count</th>\n",
       "      <td>74111</td>\n",
       "      <td>74111</td>\n",
       "      <td>74111</td>\n",
       "      <td>74111</td>\n",
       "      <td>74111</td>\n",
       "      <td>74111</td>\n",
       "      <td>74111</td>\n",
       "      <td>74111</td>\n",
       "      <td>74111</td>\n",
       "      <td>74111</td>\n",
       "      <td>74111</td>\n",
       "    </tr>\n",
       "    <tr>\n",
       "      <th>unique</th>\n",
       "      <td>35</td>\n",
       "      <td>3</td>\n",
       "      <td>67122</td>\n",
       "      <td>5</td>\n",
       "      <td>5</td>\n",
       "      <td>6</td>\n",
       "      <td>73474</td>\n",
       "      <td>2</td>\n",
       "      <td>2</td>\n",
       "      <td>2</td>\n",
       "      <td>73350</td>\n",
       "    </tr>\n",
       "    <tr>\n",
       "      <th>top</th>\n",
       "      <td>Apartment</td>\n",
       "      <td>Entire home/apt</td>\n",
       "      <td>{}</td>\n",
       "      <td>Real Bed</td>\n",
       "      <td>strict</td>\n",
       "      <td>NYC</td>\n",
       "      <td>Hello, I've been running guest house for Korea...</td>\n",
       "      <td>t</td>\n",
       "      <td>t</td>\n",
       "      <td>f</td>\n",
       "      <td>#NAME?</td>\n",
       "    </tr>\n",
       "    <tr>\n",
       "      <th>freq</th>\n",
       "      <td>49003</td>\n",
       "      <td>41310</td>\n",
       "      <td>586</td>\n",
       "      <td>72028</td>\n",
       "      <td>32374</td>\n",
       "      <td>32349</td>\n",
       "      <td>8</td>\n",
       "      <td>73885</td>\n",
       "      <td>49936</td>\n",
       "      <td>54660</td>\n",
       "      <td>10</td>\n",
       "    </tr>\n",
       "  </tbody>\n",
       "</table>\n",
       "</div>"
      ],
      "text/plain": [
       "       property_type        room_type amenities  bed_type cancellation_policy  \\\n",
       "count          74111            74111     74111     74111               74111   \n",
       "unique            35                3     67122         5                   5   \n",
       "top        Apartment  Entire home/apt        {}  Real Bed              strict   \n",
       "freq           49003            41310       586     72028               32374   \n",
       "\n",
       "         city                                        description  \\\n",
       "count   74111                                              74111   \n",
       "unique      6                                              73474   \n",
       "top       NYC  Hello, I've been running guest house for Korea...   \n",
       "freq    32349                                                  8   \n",
       "\n",
       "       host_has_profile_pic host_identity_verified instant_bookable    name  \n",
       "count                 74111                  74111            74111   74111  \n",
       "unique                    2                      2                2   73350  \n",
       "top                       t                      t                f  #NAME?  \n",
       "freq                  73885                  49936            54660      10  "
      ]
     },
     "execution_count": 22,
     "metadata": {},
     "output_type": "execute_result"
    }
   ],
   "source": [
    "data.describe(include=['O'])"
   ]
  },
  {
   "cell_type": "markdown",
   "metadata": {},
   "source": [
    "### Important observations:\n",
    "\n",
    "* Around 40% of the records are from new york city.\n",
    "* Around 70% of the records property type is apartment.\n",
    "* Around 95% of the records contains bed_type as real bed.\n",
    "* 99% of host has profile picture.\n",
    "* 60% host identity is verified.\n",
    "    \n"
   ]
  },
  {
   "cell_type": "code",
   "execution_count": 23,
   "metadata": {},
   "outputs": [],
   "source": [
    "import sweetviz as sv"
   ]
  },
  {
   "cell_type": "code",
   "execution_count": 24,
   "metadata": {},
   "outputs": [
    {
     "data": {
      "application/vnd.jupyter.widget-view+json": {
       "model_id": "120367e03292469bbf7a1eebcd0be46b",
       "version_major": 2,
       "version_minor": 0
      },
      "text/plain": [
       "HBox(children=(HTML(value=''), FloatProgress(value=0.0, layout=Layout(flex='2'), max=21.0), HTML(value='')), l…"
      ]
     },
     "metadata": {},
     "output_type": "display_data"
    },
    {
     "name": "stdout",
     "output_type": "stream",
     "text": [
      "\n",
      "Report SWEETVIZ_REPORT.html was generated! NOTEBOOK/COLAB USERS: the web browser MAY not pop up, regardless, the report IS saved in your notebook/colab files.\n"
     ]
    }
   ],
   "source": [
    "report = sv.analyze(data)\n",
    "report.show_html()"
   ]
  },
  {
   "cell_type": "markdown",
   "metadata": {},
   "source": [
    "### Keypoints:\n",
    "* 60% of property available on Airbnb in US is apartment.\n",
    "* 56% of room type on Airbnb in US is entire home/apt.\n",
    "* 40% of properties can make accomodation for 2 peoples.\n",
    "* 80% of properties has 1 washroom.\n",
    "* Almost all the property is furnished and has atleast bed.\n",
    "* 44% of host charges for concellation.\n",
    "* 73% of host charges cleaning fees.\n",
    "* 70% of records are from new york and los angeles whereas new york contain 40% of all roecords.\n",
    "* 26% of host provide instant booking serivce.\n",
    "* 67% properties contain one bedrooms.\n",
    "* 60% properties has just one bed in the property."
   ]
  },
  {
   "cell_type": "code",
   "execution_count": 25,
   "metadata": {},
   "outputs": [],
   "source": [
    "import seaborn as sns\n",
    "import matplotlib.pyplot as plot"
   ]
  },
  {
   "cell_type": "code",
   "execution_count": 26,
   "metadata": {},
   "outputs": [],
   "source": [
    "cityVlog_price = data[['city', 'log_price']].groupby(['city'], as_index=False).mean().sort_values(by='city',ascending=True)"
   ]
  },
  {
   "cell_type": "code",
   "execution_count": 27,
   "metadata": {},
   "outputs": [
    {
     "data": {
      "text/plain": [
       "<function matplotlib.pyplot.show(close=None, block=None)>"
      ]
     },
     "execution_count": 27,
     "metadata": {},
     "output_type": "execute_result"
    },
    {
     "data": {
      "image/png": "[encoded data removed]",
      "text/plain": [
       "<Figure size 600x400 with 1 Axes>"
      ]
     },
     "metadata": {},
     "output_type": "display_data"
    }
   ],
   "source": [
    "cityVlog_price.plot.bar(x='city', y='log_price', rot=45, title=\"City vs Mean of Log Price\");\n",
    "plot.show"
   ]
  },
  {
   "cell_type": "markdown",
   "metadata": {},
   "source": [
    "**As we can see that most of the expensive properties on Airbnb within US is in San Francisco.**"
   ]
  },
  {
   "cell_type": "code",
   "execution_count": 28,
   "metadata": {},
   "outputs": [
    {
     "data": {
      "text/html": [
       "<div>\n",
       "<style scoped>\n",
       "    .dataframe tbody tr th:only-of-type {\n",
       "        vertical-align: middle;\n",
       "    }\n",
       "\n",
       "    .dataframe tbody tr th {\n",
       "        vertical-align: top;\n",
       "    }\n",
       "\n",
       "    .dataframe thead th {\n",
       "        text-align: right;\n",
       "    }\n",
       "</style>\n",
       "<table border=\"1\" class=\"dataframe\">\n",
       "  <thead>\n",
       "    <tr style=\"text-align: right;\">\n",
       "      <th></th>\n",
       "      <th>property_type</th>\n",
       "      <th>log_price</th>\n",
       "    </tr>\n",
       "  </thead>\n",
       "  <tbody>\n",
       "    <tr>\n",
       "      <th>27</th>\n",
       "      <td>Timeshare</td>\n",
       "      <td>5.602600</td>\n",
       "    </tr>\n",
       "    <tr>\n",
       "      <th>21</th>\n",
       "      <td>Lighthouse</td>\n",
       "      <td>5.521461</td>\n",
       "    </tr>\n",
       "    <tr>\n",
       "      <th>32</th>\n",
       "      <td>Vacation home</td>\n",
       "      <td>5.420951</td>\n",
       "    </tr>\n",
       "    <tr>\n",
       "      <th>8</th>\n",
       "      <td>Castle</td>\n",
       "      <td>5.368424</td>\n",
       "    </tr>\n",
       "    <tr>\n",
       "      <th>13</th>\n",
       "      <td>Earth House</td>\n",
       "      <td>5.285391</td>\n",
       "    </tr>\n",
       "    <tr>\n",
       "      <th>28</th>\n",
       "      <td>Tipi</td>\n",
       "      <td>5.246118</td>\n",
       "    </tr>\n",
       "    <tr>\n",
       "      <th>30</th>\n",
       "      <td>Train</td>\n",
       "      <td>5.204399</td>\n",
       "    </tr>\n",
       "    <tr>\n",
       "      <th>2</th>\n",
       "      <td>Boat</td>\n",
       "      <td>5.200865</td>\n",
       "    </tr>\n",
       "    <tr>\n",
       "      <th>25</th>\n",
       "      <td>Serviced apartment</td>\n",
       "      <td>5.147467</td>\n",
       "    </tr>\n",
       "    <tr>\n",
       "      <th>33</th>\n",
       "      <td>Villa</td>\n",
       "      <td>5.112427</td>\n",
       "    </tr>\n",
       "  </tbody>\n",
       "</table>\n",
       "</div>"
      ],
      "text/plain": [
       "         property_type  log_price\n",
       "27           Timeshare   5.602600\n",
       "21          Lighthouse   5.521461\n",
       "32       Vacation home   5.420951\n",
       "8               Castle   5.368424\n",
       "13         Earth House   5.285391\n",
       "28                Tipi   5.246118\n",
       "30               Train   5.204399\n",
       "2                 Boat   5.200865\n",
       "25  Serviced apartment   5.147467\n",
       "33               Villa   5.112427"
      ]
     },
     "execution_count": 28,
     "metadata": {},
     "output_type": "execute_result"
    }
   ],
   "source": [
    "data[['property_type', 'log_price']].groupby(['property_type'],\n",
    "                                             as_index=False).mean().sort_values(by='log_price',ascending=False).head(10)"
   ]
  },
  {
   "cell_type": "markdown",
   "metadata": {},
   "source": [
    "As we can see that different type of property has different log price. The highest price is of **Timeshare**."
   ]
  },
  {
   "cell_type": "code",
   "execution_count": 29,
   "metadata": {},
   "outputs": [
    {
     "data": {
      "text/plain": [
       "<function matplotlib.pyplot.show(close=None, block=None)>"
      ]
     },
     "execution_count": 29,
     "metadata": {},
     "output_type": "execute_result"
    },
    {
     "data": {
      "image/png": "[encoded data removed]",
      "text/plain": [
       "<Figure size 600x400 with 1 Axes>"
      ]
     },
     "metadata": {},
     "output_type": "display_data"
    }
   ],
   "source": [
    "accoVslog_price = data[['accommodates', 'log_price']].groupby(['accommodates'], as_index=False).mean()\n",
    "accoVslog_price.plot.bar(x='accommodates', y='log_price', rot=45, title=\"Accommodate vs Mean of Log Price\");\n",
    "plot.show"
   ]
  },
  {
   "cell_type": "markdown",
   "metadata": {},
   "source": [
    "**From the above graph, we can see that the price varies linearly with increase in number of accommodates.**"
   ]
  },
  {
   "cell_type": "code",
   "execution_count": 30,
   "metadata": {},
   "outputs": [
    {
     "data": {
      "text/plain": [
       "<function matplotlib.pyplot.show(close=None, block=None)>"
      ]
     },
     "execution_count": 30,
     "metadata": {},
     "output_type": "execute_result"
    },
    {
     "data": {
      "image/png": "[encoded data removed]",
      "text/plain": [
       "<Figure size 600x400 with 1 Axes>"
      ]
     },
     "metadata": {},
     "output_type": "display_data"
    }
   ],
   "source": [
    "room_typeVsLog_price = data[['room_type', 'log_price']].groupby(['room_type'], as_index=False).mean()\n",
    "room_typeVsLog_price.plot.bar(x='room_type', y='log_price', rot=45, title=\"Room type vs Mean of Log Price\");\n",
    "plot.show"
   ]
  },
  {
   "cell_type": "markdown",
   "metadata": {},
   "source": [
    "It is clearly seeen that price varies for different room type and Entire home has the maximum price."
   ]
  },
  {
   "cell_type": "code",
   "execution_count": 31,
   "metadata": {},
   "outputs": [
    {
     "data": {
      "text/plain": [
       "<function matplotlib.pyplot.show(close=None, block=None)>"
      ]
     },
     "execution_count": 31,
     "metadata": {},
     "output_type": "execute_result"
    },
    {
     "data": {
      "image/png": "[encoded data removed]",
      "text/plain": [
       "<Figure size 600x400 with 1 Axes>"
      ]
     },
     "metadata": {},
     "output_type": "display_data"
    }
   ],
   "source": [
    "bedroomsVsLog_price = data[['bedrooms', 'log_price']].groupby(['bedrooms'], as_index=False).mean()\n",
    "bedroomsVsLog_price.plot.bar(x='bedrooms', y='log_price', rot=45, title=\"Bedrooms vs Mean of Log Price\");\n",
    "plot.show"
   ]
  },
  {
   "cell_type": "markdown",
   "metadata": {},
   "source": [
    "**As we can see that their is some dip in graph between no bedroom in house till 1 bedroom and after thatthe price is increasing as the bedroom count is increasing.**"
   ]
  },
  {
   "cell_type": "code",
   "execution_count": 32,
   "metadata": {},
   "outputs": [
    {
     "data": {
      "text/plain": [
       "<function matplotlib.pyplot.show(close=None, block=None)>"
      ]
     },
     "execution_count": 32,
     "metadata": {},
     "output_type": "execute_result"
    },
    {
     "data": {
      "image/png": "[encoded data removed]",
      "text/plain": [
       "<Figure size 600x400 with 1 Axes>"
      ]
     },
     "metadata": {},
     "output_type": "display_data"
    }
   ],
   "source": [
    "hostIdVVsLog_price = data[['host_identity_verified', 'log_price']].groupby(['host_identity_verified'], as_index=False).mean()\n",
    "hostIdVVsLog_price.plot.bar(x='host_identity_verified', y='log_price', rot=45, title=\"Host Id Verified vs Mean of Log Price\");\n",
    "plot.show"
   ]
  },
  {
   "cell_type": "markdown",
   "metadata": {},
   "source": [
    "**As we can see that price is not effected by whether the host identity is verified or not.**"
   ]
  },
  {
   "cell_type": "code",
   "execution_count": 33,
   "metadata": {},
   "outputs": [
    {
     "data": {
      "text/plain": [
       "<function matplotlib.pyplot.show(close=None, block=None)>"
      ]
     },
     "execution_count": 33,
     "metadata": {},
     "output_type": "execute_result"
    },
    {
     "data": {
      "image/png": "[encoded data removed]",
      "text/plain": [
       "<Figure size 600x400 with 1 Axes>"
      ]
     },
     "metadata": {},
     "output_type": "display_data"
    }
   ],
   "source": [
    "host_has_profile_picVsLog_price = data[['host_has_profile_pic', 'log_price']].groupby(['host_has_profile_pic'], as_index=False).mean()\n",
    "host_has_profile_picVsLog_price.plot.bar(x='host_has_profile_pic', y='log_price', rot=45, title=\"Host has profile picture vs Mean of Log Price\");\n",
    "plot.show"
   ]
  },
  {
   "cell_type": "markdown",
   "metadata": {},
   "source": [
    "Since the data shows that the host which dont have picture has high price. It could be because of just 226 cases of not having profile picture among 74000 cases. "
   ]
  },
  {
   "cell_type": "code",
   "execution_count": 34,
   "metadata": {},
   "outputs": [
    {
     "data": {
      "text/plain": [
       "<function matplotlib.pyplot.show(close=None, block=None)>"
      ]
     },
     "execution_count": 34,
     "metadata": {},
     "output_type": "execute_result"
    },
    {
     "data": {
      "image/png": "[encoded data removed]",
      "text/plain": [
       "<Figure size 600x400 with 1 Axes>"
      ]
     },
     "metadata": {},
     "output_type": "display_data"
    }
   ],
   "source": [
    "instant_bookableVsLog_price = data[['instant_bookable', 'log_price']].groupby(['instant_bookable'], as_index=False).mean()\n",
    "instant_bookableVsLog_price.plot.bar(x='instant_bookable', y='log_price', rot=45, title=\"Instant Bookable vs Mean of Log Price\");\n",
    "plot.show"
   ]
  },
  {
   "cell_type": "markdown",
   "metadata": {},
   "source": [
    "**As we can see that price is not effected by whether the instant booking feature is available or not.**"
   ]
  },
  {
   "cell_type": "markdown",
   "metadata": {},
   "source": [
    "### Summary:\n",
    "* Sanfrancisco is expensive i.e have high prices among other states.\n",
    "* Different type of property has different price.\n",
    "* Prices increse linearly with increase in number of accommodates.\n",
    "* Entire home/apt is expensive among private room and shared room.\n",
    "* Prices increase with increase in number of bedrooms.\n",
    "* Host id verified or not does not effect the price.\n",
    "* Host has profile picture also does not effect the price as we have just 226 cases of no profile picture.\n",
    "* Instant booking feature does not effect the price as it is similar for both cases (i.e available or not)."
   ]
  },
  {
   "cell_type": "markdown",
   "metadata": {},
   "source": [
    "**Lets try to look at some correlations:**"
   ]
  },
  {
   "cell_type": "code",
   "execution_count": 35,
   "metadata": {},
   "outputs": [
    {
     "data": {
      "text/html": [
       "<div>\n",
       "<style scoped>\n",
       "    .dataframe tbody tr th:only-of-type {\n",
       "        vertical-align: middle;\n",
       "    }\n",
       "\n",
       "    .dataframe tbody tr th {\n",
       "        vertical-align: top;\n",
       "    }\n",
       "\n",
       "    .dataframe thead th {\n",
       "        text-align: right;\n",
       "    }\n",
       "</style>\n",
       "<table border=\"1\" class=\"dataframe\">\n",
       "  <thead>\n",
       "    <tr style=\"text-align: right;\">\n",
       "      <th></th>\n",
       "      <th>id</th>\n",
       "      <th>log_price</th>\n",
       "      <th>accommodates</th>\n",
       "      <th>bathrooms</th>\n",
       "      <th>cleaning_fee</th>\n",
       "      <th>latitude</th>\n",
       "      <th>longitude</th>\n",
       "      <th>bedrooms</th>\n",
       "      <th>beds</th>\n",
       "    </tr>\n",
       "  </thead>\n",
       "  <tbody>\n",
       "    <tr>\n",
       "      <th>id</th>\n",
       "      <td>1.000000</td>\n",
       "      <td>-0.007178</td>\n",
       "      <td>-0.005759</td>\n",
       "      <td>-0.004058</td>\n",
       "      <td>-0.003059</td>\n",
       "      <td>-0.003021</td>\n",
       "      <td>-0.001379</td>\n",
       "      <td>-0.007578</td>\n",
       "      <td>-0.008876</td>\n",
       "    </tr>\n",
       "    <tr>\n",
       "      <th>log_price</th>\n",
       "      <td>-0.007178</td>\n",
       "      <td>1.000000</td>\n",
       "      <td>0.567574</td>\n",
       "      <td>0.355174</td>\n",
       "      <td>0.111191</td>\n",
       "      <td>-0.002193</td>\n",
       "      <td>-0.047529</td>\n",
       "      <td>0.473028</td>\n",
       "      <td>0.441953</td>\n",
       "    </tr>\n",
       "    <tr>\n",
       "      <th>accommodates</th>\n",
       "      <td>-0.005759</td>\n",
       "      <td>0.567574</td>\n",
       "      <td>1.000000</td>\n",
       "      <td>0.505490</td>\n",
       "      <td>0.182306</td>\n",
       "      <td>-0.078309</td>\n",
       "      <td>-0.085160</td>\n",
       "      <td>0.709214</td>\n",
       "      <td>0.810247</td>\n",
       "    </tr>\n",
       "    <tr>\n",
       "      <th>bathrooms</th>\n",
       "      <td>-0.004058</td>\n",
       "      <td>0.355174</td>\n",
       "      <td>0.505490</td>\n",
       "      <td>1.000000</td>\n",
       "      <td>0.054134</td>\n",
       "      <td>-0.137673</td>\n",
       "      <td>-0.134777</td>\n",
       "      <td>0.589783</td>\n",
       "      <td>0.525699</td>\n",
       "    </tr>\n",
       "    <tr>\n",
       "      <th>cleaning_fee</th>\n",
       "      <td>-0.003059</td>\n",
       "      <td>0.111191</td>\n",
       "      <td>0.182306</td>\n",
       "      <td>0.054134</td>\n",
       "      <td>1.000000</td>\n",
       "      <td>-0.060913</td>\n",
       "      <td>-0.068505</td>\n",
       "      <td>0.105491</td>\n",
       "      <td>0.132089</td>\n",
       "    </tr>\n",
       "    <tr>\n",
       "      <th>latitude</th>\n",
       "      <td>-0.003021</td>\n",
       "      <td>-0.002193</td>\n",
       "      <td>-0.078309</td>\n",
       "      <td>-0.137673</td>\n",
       "      <td>-0.060913</td>\n",
       "      <td>1.000000</td>\n",
       "      <td>0.896065</td>\n",
       "      <td>-0.059128</td>\n",
       "      <td>-0.080135</td>\n",
       "    </tr>\n",
       "    <tr>\n",
       "      <th>longitude</th>\n",
       "      <td>-0.001379</td>\n",
       "      <td>-0.047529</td>\n",
       "      <td>-0.085160</td>\n",
       "      <td>-0.134777</td>\n",
       "      <td>-0.068505</td>\n",
       "      <td>0.896065</td>\n",
       "      <td>1.000000</td>\n",
       "      <td>-0.076093</td>\n",
       "      <td>-0.082045</td>\n",
       "    </tr>\n",
       "    <tr>\n",
       "      <th>bedrooms</th>\n",
       "      <td>-0.007578</td>\n",
       "      <td>0.473028</td>\n",
       "      <td>0.709214</td>\n",
       "      <td>0.589783</td>\n",
       "      <td>0.105491</td>\n",
       "      <td>-0.059128</td>\n",
       "      <td>-0.076093</td>\n",
       "      <td>1.000000</td>\n",
       "      <td>0.709186</td>\n",
       "    </tr>\n",
       "    <tr>\n",
       "      <th>beds</th>\n",
       "      <td>-0.008876</td>\n",
       "      <td>0.441953</td>\n",
       "      <td>0.810247</td>\n",
       "      <td>0.525699</td>\n",
       "      <td>0.132089</td>\n",
       "      <td>-0.080135</td>\n",
       "      <td>-0.082045</td>\n",
       "      <td>0.709186</td>\n",
       "      <td>1.000000</td>\n",
       "    </tr>\n",
       "  </tbody>\n",
       "</table>\n",
       "</div>"
      ],
      "text/plain": [
       "                    id  log_price  accommodates  bathrooms  cleaning_fee  \\\n",
       "id            1.000000  -0.007178     -0.005759  -0.004058     -0.003059   \n",
       "log_price    -0.007178   1.000000      0.567574   0.355174      0.111191   \n",
       "accommodates -0.005759   0.567574      1.000000   0.505490      0.182306   \n",
       "bathrooms    -0.004058   0.355174      0.505490   1.000000      0.054134   \n",
       "cleaning_fee -0.003059   0.111191      0.182306   0.054134      1.000000   \n",
       "latitude     -0.003021  -0.002193     -0.078309  -0.137673     -0.060913   \n",
       "longitude    -0.001379  -0.047529     -0.085160  -0.134777     -0.068505   \n",
       "bedrooms     -0.007578   0.473028      0.709214   0.589783      0.105491   \n",
       "beds         -0.008876   0.441953      0.810247   0.525699      0.132089   \n",
       "\n",
       "              latitude  longitude  bedrooms      beds  \n",
       "id           -0.003021  -0.001379 -0.007578 -0.008876  \n",
       "log_price    -0.002193  -0.047529  0.473028  0.441953  \n",
       "accommodates -0.078309  -0.085160  0.709214  0.810247  \n",
       "bathrooms    -0.137673  -0.134777  0.589783  0.525699  \n",
       "cleaning_fee -0.060913  -0.068505  0.105491  0.132089  \n",
       "latitude      1.000000   0.896065 -0.059128 -0.080135  \n",
       "longitude     0.896065   1.000000 -0.076093 -0.082045  \n",
       "bedrooms     -0.059128  -0.076093  1.000000  0.709186  \n",
       "beds         -0.080135  -0.082045  0.709186  1.000000  "
      ]
     },
     "execution_count": 35,
     "metadata": {},
     "output_type": "execute_result"
    }
   ],
   "source": [
    "data.corr()"
   ]
  },
  {
   "cell_type": "code",
   "execution_count": 36,
   "metadata": {},
   "outputs": [
    {
     "data": {
      "text/plain": [
       "<AxesSubplot:>"
      ]
     },
     "execution_count": 36,
     "metadata": {},
     "output_type": "execute_result"
    },
    {
     "data": {
      "image/png": "[encoded data removed]",
      "text/plain": [
       "<Figure size 1000x1000 with 2 Axes>"
      ]
     },
     "metadata": {},
     "output_type": "display_data"
    }
   ],
   "source": [
    "plot.figure(figsize=(10, 10))\n",
    "sns.heatmap(data.corr(),linewidths=0.25,vmax=1.0,square=True,annot=True)"
   ]
  },
  {
   "cell_type": "markdown",
   "metadata": {},
   "source": [
    "### Overview from correlation table:\n",
    "* It can be seen that **accommodates** is highly correlated with **beds**.\n",
    "* It can also be seen that **beds** has high correlation with **bedrooms**.\n",
    "* It can also be seen that **beds** has high correlation with **accommodates**."
   ]
  },
  {
   "cell_type": "markdown",
   "metadata": {},
   "source": [
    "### Now as per our findings we can delete multiple columns as shown below:\n",
    "\n",
    "* **Instant bookable** can be dropped as it does not effect the price on booking as see from above graph (Instant bookable vs Log Price).\n",
    "* **Host id verified** can be dropped as it does not effect the price on booking as see from above graph (Host id verified vs Log Price).\n",
    "* **Host has profile picture** can be dropped as it does not effect the price on booking as see from above graph (Host has profile picture vs Log Price).\n",
    "* **Id** can be dropped as price does not depend on id.\n",
    "* **Name** can be dropped as price does not depend on name of the property."
   ]
  },
  {
   "cell_type": "code",
   "execution_count": 37,
   "metadata": {
    "scrolled": true
   },
   "outputs": [
    {
     "data": {
      "text/html": [
       "<div>\n",
       "<style scoped>\n",
       "    .dataframe tbody tr th:only-of-type {\n",
       "        vertical-align: middle;\n",
       "    }\n",
       "\n",
       "    .dataframe tbody tr th {\n",
       "        vertical-align: top;\n",
       "    }\n",
       "\n",
       "    .dataframe thead th {\n",
       "        text-align: right;\n",
       "    }\n",
       "</style>\n",
       "<table border=\"1\" class=\"dataframe\">\n",
       "  <thead>\n",
       "    <tr style=\"text-align: right;\">\n",
       "      <th></th>\n",
       "      <th>log_price</th>\n",
       "      <th>property_type</th>\n",
       "      <th>room_type</th>\n",
       "      <th>amenities</th>\n",
       "      <th>accommodates</th>\n",
       "      <th>bathrooms</th>\n",
       "      <th>bed_type</th>\n",
       "      <th>cancellation_policy</th>\n",
       "      <th>cleaning_fee</th>\n",
       "      <th>city</th>\n",
       "      <th>latitude</th>\n",
       "      <th>longitude</th>\n",
       "      <th>bedrooms</th>\n",
       "      <th>beds</th>\n",
       "    </tr>\n",
       "  </thead>\n",
       "  <tbody>\n",
       "    <tr>\n",
       "      <th>0</th>\n",
       "      <td>5.010635</td>\n",
       "      <td>Apartment</td>\n",
       "      <td>Entire home/apt</td>\n",
       "      <td>{\"Wireless Internet\",\"Air conditioning\",Kitche...</td>\n",
       "      <td>3</td>\n",
       "      <td>1.0</td>\n",
       "      <td>Real Bed</td>\n",
       "      <td>strict</td>\n",
       "      <td>True</td>\n",
       "      <td>NYC</td>\n",
       "      <td>40.696524</td>\n",
       "      <td>-73.991617</td>\n",
       "      <td>1.0</td>\n",
       "      <td>1.0</td>\n",
       "    </tr>\n",
       "    <tr>\n",
       "      <th>1</th>\n",
       "      <td>5.129899</td>\n",
       "      <td>Apartment</td>\n",
       "      <td>Entire home/apt</td>\n",
       "      <td>{\"Wireless Internet\",\"Air conditioning\",Kitche...</td>\n",
       "      <td>7</td>\n",
       "      <td>1.0</td>\n",
       "      <td>Real Bed</td>\n",
       "      <td>strict</td>\n",
       "      <td>True</td>\n",
       "      <td>NYC</td>\n",
       "      <td>40.766115</td>\n",
       "      <td>-73.989040</td>\n",
       "      <td>3.0</td>\n",
       "      <td>3.0</td>\n",
       "    </tr>\n",
       "    <tr>\n",
       "      <th>2</th>\n",
       "      <td>4.976734</td>\n",
       "      <td>Apartment</td>\n",
       "      <td>Entire home/apt</td>\n",
       "      <td>{TV,\"Cable TV\",\"Wireless Internet\",\"Air condit...</td>\n",
       "      <td>5</td>\n",
       "      <td>1.0</td>\n",
       "      <td>Real Bed</td>\n",
       "      <td>moderate</td>\n",
       "      <td>True</td>\n",
       "      <td>NYC</td>\n",
       "      <td>40.808110</td>\n",
       "      <td>-73.943756</td>\n",
       "      <td>1.0</td>\n",
       "      <td>3.0</td>\n",
       "    </tr>\n",
       "    <tr>\n",
       "      <th>3</th>\n",
       "      <td>6.620073</td>\n",
       "      <td>House</td>\n",
       "      <td>Entire home/apt</td>\n",
       "      <td>{TV,\"Cable TV\",Internet,\"Wireless Internet\",Ki...</td>\n",
       "      <td>4</td>\n",
       "      <td>1.0</td>\n",
       "      <td>Real Bed</td>\n",
       "      <td>flexible</td>\n",
       "      <td>True</td>\n",
       "      <td>SF</td>\n",
       "      <td>37.772004</td>\n",
       "      <td>-122.431619</td>\n",
       "      <td>2.0</td>\n",
       "      <td>2.0</td>\n",
       "    </tr>\n",
       "    <tr>\n",
       "      <th>4</th>\n",
       "      <td>4.744932</td>\n",
       "      <td>Apartment</td>\n",
       "      <td>Entire home/apt</td>\n",
       "      <td>{TV,Internet,\"Wireless Internet\",\"Air conditio...</td>\n",
       "      <td>2</td>\n",
       "      <td>1.0</td>\n",
       "      <td>Real Bed</td>\n",
       "      <td>moderate</td>\n",
       "      <td>True</td>\n",
       "      <td>DC</td>\n",
       "      <td>38.925627</td>\n",
       "      <td>-77.034596</td>\n",
       "      <td>0.0</td>\n",
       "      <td>1.0</td>\n",
       "    </tr>\n",
       "    <tr>\n",
       "      <th>5</th>\n",
       "      <td>4.442651</td>\n",
       "      <td>Apartment</td>\n",
       "      <td>Private room</td>\n",
       "      <td>{TV,\"Wireless Internet\",Heating,\"Smoke detecto...</td>\n",
       "      <td>2</td>\n",
       "      <td>1.0</td>\n",
       "      <td>Real Bed</td>\n",
       "      <td>strict</td>\n",
       "      <td>True</td>\n",
       "      <td>SF</td>\n",
       "      <td>37.753164</td>\n",
       "      <td>-122.429526</td>\n",
       "      <td>1.0</td>\n",
       "      <td>1.0</td>\n",
       "    </tr>\n",
       "    <tr>\n",
       "      <th>6</th>\n",
       "      <td>4.418841</td>\n",
       "      <td>Apartment</td>\n",
       "      <td>Entire home/apt</td>\n",
       "      <td>{TV,Internet,\"Wireless Internet\",\"Air conditio...</td>\n",
       "      <td>3</td>\n",
       "      <td>1.0</td>\n",
       "      <td>Real Bed</td>\n",
       "      <td>moderate</td>\n",
       "      <td>True</td>\n",
       "      <td>LA</td>\n",
       "      <td>33.980454</td>\n",
       "      <td>-118.462821</td>\n",
       "      <td>1.0</td>\n",
       "      <td>1.0</td>\n",
       "    </tr>\n",
       "    <tr>\n",
       "      <th>7</th>\n",
       "      <td>4.787492</td>\n",
       "      <td>Condominium</td>\n",
       "      <td>Entire home/apt</td>\n",
       "      <td>{TV,\"Cable TV\",\"Wireless Internet\",\"Wheelchair...</td>\n",
       "      <td>2</td>\n",
       "      <td>1.0</td>\n",
       "      <td>Real Bed</td>\n",
       "      <td>moderate</td>\n",
       "      <td>True</td>\n",
       "      <td>LA</td>\n",
       "      <td>34.046737</td>\n",
       "      <td>-118.260439</td>\n",
       "      <td>1.0</td>\n",
       "      <td>1.0</td>\n",
       "    </tr>\n",
       "    <tr>\n",
       "      <th>8</th>\n",
       "      <td>4.787492</td>\n",
       "      <td>House</td>\n",
       "      <td>Private room</td>\n",
       "      <td>{TV,\"Cable TV\",\"Wireless Internet\",\"Pets live ...</td>\n",
       "      <td>2</td>\n",
       "      <td>1.0</td>\n",
       "      <td>Real Bed</td>\n",
       "      <td>moderate</td>\n",
       "      <td>True</td>\n",
       "      <td>SF</td>\n",
       "      <td>37.781128</td>\n",
       "      <td>-122.501095</td>\n",
       "      <td>1.0</td>\n",
       "      <td>1.0</td>\n",
       "    </tr>\n",
       "    <tr>\n",
       "      <th>9</th>\n",
       "      <td>3.583519</td>\n",
       "      <td>House</td>\n",
       "      <td>Private room</td>\n",
       "      <td>{\"Wireless Internet\",\"Air conditioning\",Kitche...</td>\n",
       "      <td>2</td>\n",
       "      <td>1.0</td>\n",
       "      <td>Real Bed</td>\n",
       "      <td>moderate</td>\n",
       "      <td>True</td>\n",
       "      <td>LA</td>\n",
       "      <td>33.992563</td>\n",
       "      <td>-117.895997</td>\n",
       "      <td>1.0</td>\n",
       "      <td>1.0</td>\n",
       "    </tr>\n",
       "  </tbody>\n",
       "</table>\n",
       "</div>"
      ],
      "text/plain": [
       "   log_price property_type        room_type  \\\n",
       "0   5.010635     Apartment  Entire home/apt   \n",
       "1   5.129899     Apartment  Entire home/apt   \n",
       "2   4.976734     Apartment  Entire home/apt   \n",
       "3   6.620073         House  Entire home/apt   \n",
       "4   4.744932     Apartment  Entire home/apt   \n",
       "5   4.442651     Apartment     Private room   \n",
       "6   4.418841     Apartment  Entire home/apt   \n",
       "7   4.787492   Condominium  Entire home/apt   \n",
       "8   4.787492         House     Private room   \n",
       "9   3.583519         House     Private room   \n",
       "\n",
       "                                           amenities  accommodates  bathrooms  \\\n",
       "0  {\"Wireless Internet\",\"Air conditioning\",Kitche...             3        1.0   \n",
       "1  {\"Wireless Internet\",\"Air conditioning\",Kitche...             7        1.0   \n",
       "2  {TV,\"Cable TV\",\"Wireless Internet\",\"Air condit...             5        1.0   \n",
       "3  {TV,\"Cable TV\",Internet,\"Wireless Internet\",Ki...             4        1.0   \n",
       "4  {TV,Internet,\"Wireless Internet\",\"Air conditio...             2        1.0   \n",
       "5  {TV,\"Wireless Internet\",Heating,\"Smoke detecto...             2        1.0   \n",
       "6  {TV,Internet,\"Wireless Internet\",\"Air conditio...             3        1.0   \n",
       "7  {TV,\"Cable TV\",\"Wireless Internet\",\"Wheelchair...             2        1.0   \n",
       "8  {TV,\"Cable TV\",\"Wireless Internet\",\"Pets live ...             2        1.0   \n",
       "9  {\"Wireless Internet\",\"Air conditioning\",Kitche...             2        1.0   \n",
       "\n",
       "   bed_type cancellation_policy  cleaning_fee city   latitude   longitude  \\\n",
       "0  Real Bed              strict          True  NYC  40.696524  -73.991617   \n",
       "1  Real Bed              strict          True  NYC  40.766115  -73.989040   \n",
       "2  Real Bed            moderate          True  NYC  40.808110  -73.943756   \n",
       "3  Real Bed            flexible          True   SF  37.772004 -122.431619   \n",
       "4  Real Bed            moderate          True   DC  38.925627  -77.034596   \n",
       "5  Real Bed              strict          True   SF  37.753164 -122.429526   \n",
       "6  Real Bed            moderate          True   LA  33.980454 -118.462821   \n",
       "7  Real Bed            moderate          True   LA  34.046737 -118.260439   \n",
       "8  Real Bed            moderate          True   SF  37.781128 -122.501095   \n",
       "9  Real Bed            moderate          True   LA  33.992563 -117.895997   \n",
       "\n",
       "   bedrooms  beds  \n",
       "0       1.0   1.0  \n",
       "1       3.0   3.0  \n",
       "2       1.0   3.0  \n",
       "3       2.0   2.0  \n",
       "4       0.0   1.0  \n",
       "5       1.0   1.0  \n",
       "6       1.0   1.0  \n",
       "7       1.0   1.0  \n",
       "8       1.0   1.0  \n",
       "9       1.0   1.0  "
      ]
     },
     "execution_count": 37,
     "metadata": {},
     "output_type": "execute_result"
    }
   ],
   "source": [
    "final_data = data.drop(['instant_bookable','host_has_profile_pic','host_identity_verified',\"description\",'name','id'],1)\n",
    "final_data.head(10)"
   ]
  },
  {
   "cell_type": "code",
   "execution_count": 38,
   "metadata": {
    "scrolled": true
   },
   "outputs": [
    {
     "data": {
      "text/html": [
       "<div>\n",
       "<style scoped>\n",
       "    .dataframe tbody tr th:only-of-type {\n",
       "        vertical-align: middle;\n",
       "    }\n",
       "\n",
       "    .dataframe tbody tr th {\n",
       "        vertical-align: top;\n",
       "    }\n",
       "\n",
       "    .dataframe thead th {\n",
       "        text-align: right;\n",
       "    }\n",
       "</style>\n",
       "<table border=\"1\" class=\"dataframe\">\n",
       "  <thead>\n",
       "    <tr style=\"text-align: right;\">\n",
       "      <th></th>\n",
       "      <th>log_price</th>\n",
       "      <th>property_type</th>\n",
       "      <th>room_type</th>\n",
       "      <th>amenities</th>\n",
       "      <th>accommodates</th>\n",
       "      <th>bathrooms</th>\n",
       "      <th>bed_type</th>\n",
       "      <th>cancellation_policy</th>\n",
       "      <th>cleaning_fee</th>\n",
       "      <th>city</th>\n",
       "      <th>latitude</th>\n",
       "      <th>longitude</th>\n",
       "      <th>bedrooms</th>\n",
       "      <th>beds</th>\n",
       "    </tr>\n",
       "  </thead>\n",
       "  <tbody>\n",
       "    <tr>\n",
       "      <th>0</th>\n",
       "      <td>142</td>\n",
       "      <td>0</td>\n",
       "      <td>0</td>\n",
       "      <td>6142</td>\n",
       "      <td>2</td>\n",
       "      <td>2</td>\n",
       "      <td>4</td>\n",
       "      <td>2</td>\n",
       "      <td>1</td>\n",
       "      <td>4</td>\n",
       "      <td>43883</td>\n",
       "      <td>42956</td>\n",
       "      <td>1</td>\n",
       "      <td>1</td>\n",
       "    </tr>\n",
       "    <tr>\n",
       "      <th>1</th>\n",
       "      <td>161</td>\n",
       "      <td>0</td>\n",
       "      <td>0</td>\n",
       "      <td>6269</td>\n",
       "      <td>6</td>\n",
       "      <td>2</td>\n",
       "      <td>4</td>\n",
       "      <td>2</td>\n",
       "      <td>1</td>\n",
       "      <td>4</td>\n",
       "      <td>59280</td>\n",
       "      <td>44041</td>\n",
       "      <td>3</td>\n",
       "      <td>3</td>\n",
       "    </tr>\n",
       "    <tr>\n",
       "      <th>2</th>\n",
       "      <td>137</td>\n",
       "      <td>0</td>\n",
       "      <td>0</td>\n",
       "      <td>21345</td>\n",
       "      <td>4</td>\n",
       "      <td>2</td>\n",
       "      <td>4</td>\n",
       "      <td>1</td>\n",
       "      <td>1</td>\n",
       "      <td>4</td>\n",
       "      <td>63880</td>\n",
       "      <td>60625</td>\n",
       "      <td>1</td>\n",
       "      <td>3</td>\n",
       "    </tr>\n",
       "    <tr>\n",
       "      <th>3</th>\n",
       "      <td>586</td>\n",
       "      <td>17</td>\n",
       "      <td>0</td>\n",
       "      <td>38854</td>\n",
       "      <td>3</td>\n",
       "      <td>2</td>\n",
       "      <td>4</td>\n",
       "      <td>0</td>\n",
       "      <td>1</td>\n",
       "      <td>5</td>\n",
       "      <td>25953</td>\n",
       "      <td>2689</td>\n",
       "      <td>2</td>\n",
       "      <td>2</td>\n",
       "    </tr>\n",
       "    <tr>\n",
       "      <th>4</th>\n",
       "      <td>107</td>\n",
       "      <td>0</td>\n",
       "      <td>0</td>\n",
       "      <td>55413</td>\n",
       "      <td>1</td>\n",
       "      <td>2</td>\n",
       "      <td>4</td>\n",
       "      <td>1</td>\n",
       "      <td>1</td>\n",
       "      <td>2</td>\n",
       "      <td>33179</td>\n",
       "      <td>34256</td>\n",
       "      <td>0</td>\n",
       "      <td>1</td>\n",
       "    </tr>\n",
       "    <tr>\n",
       "      <th>5</th>\n",
       "      <td>77</td>\n",
       "      <td>0</td>\n",
       "      <td>1</td>\n",
       "      <td>50079</td>\n",
       "      <td>1</td>\n",
       "      <td>2</td>\n",
       "      <td>4</td>\n",
       "      <td>2</td>\n",
       "      <td>1</td>\n",
       "      <td>5</td>\n",
       "      <td>24138</td>\n",
       "      <td>2918</td>\n",
       "      <td>1</td>\n",
       "      <td>1</td>\n",
       "    </tr>\n",
       "    <tr>\n",
       "      <th>6</th>\n",
       "      <td>75</td>\n",
       "      <td>0</td>\n",
       "      <td>0</td>\n",
       "      <td>63351</td>\n",
       "      <td>2</td>\n",
       "      <td>2</td>\n",
       "      <td>4</td>\n",
       "      <td>1</td>\n",
       "      <td>1</td>\n",
       "      <td>3</td>\n",
       "      <td>2894</td>\n",
       "      <td>9842</td>\n",
       "      <td>1</td>\n",
       "      <td>1</td>\n",
       "    </tr>\n",
       "    <tr>\n",
       "      <th>7</th>\n",
       "      <td>112</td>\n",
       "      <td>11</td>\n",
       "      <td>0</td>\n",
       "      <td>22670</td>\n",
       "      <td>1</td>\n",
       "      <td>2</td>\n",
       "      <td>4</td>\n",
       "      <td>1</td>\n",
       "      <td>1</td>\n",
       "      <td>3</td>\n",
       "      <td>8367</td>\n",
       "      <td>23600</td>\n",
       "      <td>1</td>\n",
       "      <td>1</td>\n",
       "    </tr>\n",
       "    <tr>\n",
       "      <th>8</th>\n",
       "      <td>112</td>\n",
       "      <td>17</td>\n",
       "      <td>1</td>\n",
       "      <td>22639</td>\n",
       "      <td>1</td>\n",
       "      <td>2</td>\n",
       "      <td>4</td>\n",
       "      <td>1</td>\n",
       "      <td>1</td>\n",
       "      <td>5</td>\n",
       "      <td>27046</td>\n",
       "      <td>137</td>\n",
       "      <td>1</td>\n",
       "      <td>1</td>\n",
       "    </tr>\n",
       "    <tr>\n",
       "      <th>9</th>\n",
       "      <td>28</td>\n",
       "      <td>17</td>\n",
       "      <td>1</td>\n",
       "      <td>3774</td>\n",
       "      <td>1</td>\n",
       "      <td>2</td>\n",
       "      <td>4</td>\n",
       "      <td>1</td>\n",
       "      <td>1</td>\n",
       "      <td>3</td>\n",
       "      <td>4050</td>\n",
       "      <td>28398</td>\n",
       "      <td>1</td>\n",
       "      <td>1</td>\n",
       "    </tr>\n",
       "  </tbody>\n",
       "</table>\n",
       "</div>"
      ],
      "text/plain": [
       "   log_price  property_type  room_type  amenities  accommodates  bathrooms  \\\n",
       "0        142              0          0       6142             2          2   \n",
       "1        161              0          0       6269             6          2   \n",
       "2        137              0          0      21345             4          2   \n",
       "3        586             17          0      38854             3          2   \n",
       "4        107              0          0      55413             1          2   \n",
       "5         77              0          1      50079             1          2   \n",
       "6         75              0          0      63351             2          2   \n",
       "7        112             11          0      22670             1          2   \n",
       "8        112             17          1      22639             1          2   \n",
       "9         28             17          1       3774             1          2   \n",
       "\n",
       "   bed_type  cancellation_policy  cleaning_fee  city  latitude  longitude  \\\n",
       "0         4                    2             1     4     43883      42956   \n",
       "1         4                    2             1     4     59280      44041   \n",
       "2         4                    1             1     4     63880      60625   \n",
       "3         4                    0             1     5     25953       2689   \n",
       "4         4                    1             1     2     33179      34256   \n",
       "5         4                    2             1     5     24138       2918   \n",
       "6         4                    1             1     3      2894       9842   \n",
       "7         4                    1             1     3      8367      23600   \n",
       "8         4                    1             1     5     27046        137   \n",
       "9         4                    1             1     3      4050      28398   \n",
       "\n",
       "   bedrooms  beds  \n",
       "0         1     1  \n",
       "1         3     3  \n",
       "2         1     3  \n",
       "3         2     2  \n",
       "4         0     1  \n",
       "5         1     1  \n",
       "6         1     1  \n",
       "7         1     1  \n",
       "8         1     1  \n",
       "9         1     1  "
      ]
     },
     "execution_count": 38,
     "metadata": {},
     "output_type": "execute_result"
    }
   ],
   "source": [
    "from sklearn.preprocessing import LabelEncoder\n",
    "output = final_data.apply(LabelEncoder().fit_transform)\n",
    "output.head(10)"
   ]
  },
  {
   "cell_type": "markdown",
   "metadata": {},
   "source": [
    "### Now, our data is ready, Lets create the model"
   ]
  },
  {
   "cell_type": "code",
   "execution_count": 39,
   "metadata": {},
   "outputs": [],
   "source": [
    "from sklearn.linear_model import LinearRegression\n",
    "from sklearn.metrics import r2_score\n",
    "from sklearn.model_selection import train_test_split "
   ]
  },
  {
   "cell_type": "code",
   "execution_count": 40,
   "metadata": {},
   "outputs": [],
   "source": [
    "X = output.drop('log_price', axis=1)\n",
    "y = output.log_price\n",
    "\n",
    "X_train, X_test, y_train, y_test = train_test_split(X,y,train_size=0.80,random_state=1)"
   ]
  },
  {
   "cell_type": "markdown",
   "metadata": {},
   "source": [
    "**Lets see how the linear regression model behaves on our data**"
   ]
  },
  {
   "cell_type": "code",
   "execution_count": 41,
   "metadata": {},
   "outputs": [
    {
     "data": {
      "text/plain": [
       "LinearRegression()"
      ]
     },
     "execution_count": 41,
     "metadata": {},
     "output_type": "execute_result"
    }
   ],
   "source": [
    "linear_model= LinearRegression()\n",
    "linear_model.fit(X_train, y_train)"
   ]
  },
  {
   "cell_type": "code",
   "execution_count": 42,
   "metadata": {},
   "outputs": [],
   "source": [
    "y_train_pred = linear_model.predict(X_train)"
   ]
  },
  {
   "cell_type": "code",
   "execution_count": 43,
   "metadata": {},
   "outputs": [
    {
     "name": "stdout",
     "output_type": "stream",
     "text": [
      "Accuracy on test data: 0.48399211461517666\n"
     ]
    }
   ],
   "source": [
    "print(\"Accuracy on test data: \"+str(r2_score(y_train, y_train_pred)))"
   ]
  },
  {
   "cell_type": "code",
   "execution_count": 44,
   "metadata": {},
   "outputs": [
    {
     "name": "stdout",
     "output_type": "stream",
     "text": [
      "Accuracy on test data: 0.4807618092709939\n"
     ]
    }
   ],
   "source": [
    "y_test_pred = linear_model.predict(X_test)\n",
    "print(\"Accuracy on test data: \"+str(r2_score(y_test, y_test_pred)))"
   ]
  },
  {
   "cell_type": "markdown",
   "metadata": {},
   "source": [
    "### Since the accuracy comes out to be 48% for linear regression for both training and testing data.\n",
    "\n",
    "### Lets try to find out using higher polynomial in regression model"
   ]
  },
  {
   "cell_type": "markdown",
   "metadata": {},
   "source": [
    "Lets check accuracy for degree 2 polynomial in linear regression"
   ]
  },
  {
   "cell_type": "code",
   "execution_count": 45,
   "metadata": {},
   "outputs": [
    {
     "name": "stdout",
     "output_type": "stream",
     "text": [
      "Accuracy on train data: 0.5566164646339293\n",
      "Accuracy on test data: 0.5512800980022872\n"
     ]
    }
   ],
   "source": [
    "from sklearn.preprocessing import PolynomialFeatures\n",
    "\n",
    "polynomial_features= PolynomialFeatures(degree=2)\n",
    "x_poly = polynomial_features.fit_transform(X_train)\n",
    "\n",
    "model = LinearRegression()\n",
    "model.fit(x_poly, y_train)\n",
    "y_poly_pred = model.predict(x_poly)\n",
    "r2_train = r2_score(y_train,y_poly_pred)\n",
    "print(\"Accuracy on train data: \"+str(r2_train))\n",
    "\n",
    "\n",
    "x_poly_test = polynomial_features.fit_transform(X_test)\n",
    "y_poly_pred_test = model.predict(x_poly_test)\n",
    "r2_test = r2_score(y_test,y_poly_pred_test)\n",
    "print(\"Accuracy on test data: \"+str(r2_test))"
   ]
  },
  {
   "cell_type": "markdown",
   "metadata": {},
   "source": [
    "Lets check accuracy for degree 3 polynomial in linear regression"
   ]
  },
  {
   "cell_type": "code",
   "execution_count": 46,
   "metadata": {},
   "outputs": [
    {
     "name": "stdout",
     "output_type": "stream",
     "text": [
      "Accuracy on train data: 0.6073455979321196\n",
      "Accuracy on test data: 0.5886003294863122\n"
     ]
    }
   ],
   "source": [
    "from sklearn.preprocessing import PolynomialFeatures\n",
    "\n",
    "polynomial_features= PolynomialFeatures(degree=3)\n",
    "x_poly = polynomial_features.fit_transform(X_train)\n",
    "\n",
    "model = LinearRegression()\n",
    "model.fit(x_poly, y_train)\n",
    "y_poly_pred = model.predict(x_poly)\n",
    "r2_train = r2_score(y_train,y_poly_pred)\n",
    "print(\"Accuracy on train data: \"+str(r2_train))\n",
    "\n",
    "\n",
    "x_poly_test = polynomial_features.fit_transform(X_test)\n",
    "y_poly_pred_test = model.predict(x_poly_test)\n",
    "r2_test = r2_score(y_test,y_poly_pred_test)\n",
    "print(\"Accuracy on test data: \"+str(r2_test))"
   ]
  },
  {
   "cell_type": "markdown",
   "metadata": {},
   "source": [
    "So we can conclude that the all the 3 models shown above have different accuracy. \n",
    "* Linear regression = 48%\n",
    "* Polynomial regression accuracy with degree 2 = 55%\n",
    "* Polynomial regression accuracy with degree 3 = 60%"
   ]
  },
  {
   "cell_type": "markdown",
   "metadata": {},
   "source": [
    "Lets see how predicted value looks like when compared with original price of AirBnb using our model (Polynomial regression with degree 3) i.e the model which we will be using as it has the highest accuracy."
   ]
  },
  {
   "cell_type": "code",
   "execution_count": 47,
   "metadata": {},
   "outputs": [
    {
     "data": {
      "text/html": [
       "<div>\n",
       "<style scoped>\n",
       "    .dataframe tbody tr th:only-of-type {\n",
       "        vertical-align: middle;\n",
       "    }\n",
       "\n",
       "    .dataframe tbody tr th {\n",
       "        vertical-align: top;\n",
       "    }\n",
       "\n",
       "    .dataframe thead th {\n",
       "        text-align: right;\n",
       "    }\n",
       "</style>\n",
       "<table border=\"1\" class=\"dataframe\">\n",
       "  <thead>\n",
       "    <tr style=\"text-align: right;\">\n",
       "      <th></th>\n",
       "      <th>Actual Price</th>\n",
       "      <th>Predicted Price</th>\n",
       "    </tr>\n",
       "  </thead>\n",
       "  <tbody>\n",
       "    <tr>\n",
       "      <th>13090</th>\n",
       "      <td>231</td>\n",
       "      <td>269.220065</td>\n",
       "    </tr>\n",
       "    <tr>\n",
       "      <th>56110</th>\n",
       "      <td>467</td>\n",
       "      <td>213.442294</td>\n",
       "    </tr>\n",
       "    <tr>\n",
       "      <th>69196</th>\n",
       "      <td>91</td>\n",
       "      <td>115.028495</td>\n",
       "    </tr>\n",
       "    <tr>\n",
       "      <th>42310</th>\n",
       "      <td>242</td>\n",
       "      <td>212.968084</td>\n",
       "    </tr>\n",
       "    <tr>\n",
       "      <th>25032</th>\n",
       "      <td>142</td>\n",
       "      <td>156.632344</td>\n",
       "    </tr>\n",
       "    <tr>\n",
       "      <th>16804</th>\n",
       "      <td>32</td>\n",
       "      <td>44.267552</td>\n",
       "    </tr>\n",
       "    <tr>\n",
       "      <th>11877</th>\n",
       "      <td>112</td>\n",
       "      <td>103.732487</td>\n",
       "    </tr>\n",
       "    <tr>\n",
       "      <th>19823</th>\n",
       "      <td>242</td>\n",
       "      <td>240.460431</td>\n",
       "    </tr>\n",
       "    <tr>\n",
       "      <th>73881</th>\n",
       "      <td>188</td>\n",
       "      <td>160.603645</td>\n",
       "    </tr>\n",
       "    <tr>\n",
       "      <th>25700</th>\n",
       "      <td>586</td>\n",
       "      <td>384.872207</td>\n",
       "    </tr>\n",
       "  </tbody>\n",
       "</table>\n",
       "</div>"
      ],
      "text/plain": [
       "       Actual Price  Predicted Price\n",
       "13090           231       269.220065\n",
       "56110           467       213.442294\n",
       "69196            91       115.028495\n",
       "42310           242       212.968084\n",
       "25032           142       156.632344\n",
       "16804            32        44.267552\n",
       "11877           112       103.732487\n",
       "19823           242       240.460431\n",
       "73881           188       160.603645\n",
       "25700           586       384.872207"
      ]
     },
     "execution_count": 47,
     "metadata": {},
     "output_type": "execute_result"
    }
   ],
   "source": [
    "df = pd.DataFrame({'Actual Price': y_train, 'Predicted Price': y_poly_pred})\n",
    "df.head(10)"
   ]
  },
  {
   "cell_type": "code",
   "execution_count": 48,
   "metadata": {},
   "outputs": [
    {
     "data": {
      "image/png": "[encoded data removed]",
      "text/plain": [
       "<Figure size 1600x1000 with 1 Axes>"
      ]
     },
     "metadata": {},
     "output_type": "display_data"
    }
   ],
   "source": [
    "df1 = df.head(25)\n",
    "df1.plot(kind='bar',figsize=(16,10))\n",
    "plot.grid(which='major', linestyle='-', linewidth='0.5', color='blue')\n",
    "plot.grid(which='minor', linestyle=':', linewidth='0.5', color='orange')\n",
    "plot.show()"
   ]
  },
  {
   "cell_type": "markdown",
   "metadata": {},
   "source": [
    "As seen from above graph our model looks good as we are 60% accurate."
   ]
  }
 ],
 "metadata": {
  "kernelspec": {
   "display_name": "Python 3",
   "language": "python",
   "name": "python3"
  },
  "language_info": {
   "codemirror_mode": {
    "name": "ipython",
    "version": 3
   },
   "file_extension": ".py",
   "mimetype": "text/x-python",
   "name": "python",
   "nbconvert_exporter": "python",
   "pygments_lexer": "ipython3",
   "version": "3.8.5"
  }
 },
 "nbformat": 4,
 "nbformat_minor": 4
}
